{
 "cells": [
  {
   "cell_type": "markdown",
   "metadata": {},
   "source": [
    "# Insight for Cab Investment Company"
   ]
  },
  {
   "cell_type": "markdown",
   "metadata": {},
   "source": [
    "- Which makes more Profit ?\n",
    "\n",
    "- Which has the largest customer base ?\n",
    "\n",
    "- Revenue Growth\n",
    "\n",
    "- Evaluate Customer Satisfaction by Customer Retention Rate\n",
    "\n",
    "- Payment Mode\n",
    "\n",
    "- Hypothesis Testing"
   ]
  },
  {
   "cell_type": "code",
   "execution_count": 1,
   "metadata": {},
   "outputs": [],
   "source": [
    "# Libraries Needed\n",
    "import pandas as pd\n",
    "import numpy as np\n",
    "import datetime as dt\n",
    "import matplotlib.pyplot as plt\n",
    "import statsmodels.api as sm\n",
    "from scipy import stats\n",
    "import seaborn as sns\n",
    "sns.set()\n",
    "import warnings\n",
    "warnings.filterwarnings('ignore')"
   ]
  },
  {
   "cell_type": "code",
   "execution_count": 2,
   "metadata": {},
   "outputs": [],
   "source": [
    "cab_data = pd.read_csv(\"Cab_Data.csv\")"
   ]
  },
  {
   "cell_type": "markdown",
   "metadata": {},
   "source": [
    "## Data Cleaning"
   ]
  },
  {
   "cell_type": "code",
   "execution_count": 3,
   "metadata": {},
   "outputs": [
    {
     "data": {
      "text/plain": [
       "Transaction ID    0\n",
       "Date of Travel    0\n",
       "Company           0\n",
       "City              0\n",
       "KM Travelled      0\n",
       "Price Charged     0\n",
       "Cost of Trip      0\n",
       "dtype: int64"
      ]
     },
     "execution_count": 3,
     "metadata": {},
     "output_type": "execute_result"
    }
   ],
   "source": [
    "# Check for missing values in data\n",
    "cab_data.isnull().sum()"
   ]
  },
  {
   "cell_type": "code",
   "execution_count": 4,
   "metadata": {},
   "outputs": [
    {
     "data": {
      "text/plain": [
       "Index(['Transaction ID', 'Date of Travel', 'Company', 'City', 'KM Travelled',\n",
       "       'Price Charged', 'Cost of Trip'],\n",
       "      dtype='object')"
      ]
     },
     "execution_count": 4,
     "metadata": {},
     "output_type": "execute_result"
    }
   ],
   "source": [
    "cab_data.columns"
   ]
  },
  {
   "cell_type": "code",
   "execution_count": 5,
   "metadata": {},
   "outputs": [
    {
     "name": "stdout",
     "output_type": "stream",
     "text": [
      "Data type of Transaction ID: int64\n",
      "Data type of Date of Travel: int64\n",
      "Data type of Company: object\n",
      "Data type of City: object\n",
      "Data type of KM Travelled: float64\n",
      "Data type of Price Charged: float64\n",
      "Data type of Cost of Trip: float64\n"
     ]
    }
   ],
   "source": [
    "# Check for the datatype of each column\n",
    "for item in cab_data.columns:\n",
    "    print(f\"Data type of {item}: {cab_data[item].dtype}\")"
   ]
  },
  {
   "cell_type": "code",
   "execution_count": 6,
   "metadata": {},
   "outputs": [
    {
     "data": {
      "text/plain": [
       "0    42377\n",
       "1    42375\n",
       "2    42371\n",
       "3    42376\n",
       "4    42372\n",
       "Name: Date of Travel, dtype: int64"
      ]
     },
     "execution_count": 6,
     "metadata": {},
     "output_type": "execute_result"
    }
   ],
   "source": [
    "cab_data[\"Date of Travel\"].head()"
   ]
  },
  {
   "cell_type": "code",
   "execution_count": 7,
   "metadata": {},
   "outputs": [],
   "source": [
    "# Function to convert the Date of Travel to datetime object\n",
    "from datetime import datetime, timedelta\n",
    "def to_date_format(n):\n",
    "    date_str =(datetime(1899,12,30) + timedelta(n-1)).strftime(\"%d-%m-%Y\")\n",
    "    date_date =  datetime.strptime(date_str, \"%d-%m-%Y\")\n",
    "    return date_date"
   ]
  },
  {
   "cell_type": "code",
   "execution_count": 8,
   "metadata": {},
   "outputs": [],
   "source": [
    "cab_data['Date of Travel'] = cab_data['Date of Travel'].apply(lambda x:to_date_format(x))"
   ]
  },
  {
   "cell_type": "code",
   "execution_count": 9,
   "metadata": {},
   "outputs": [],
   "source": [
    "# Add Months and Yeasrs column for further Analysis\n",
    "months=[]\n",
    "years =[]\n",
    "for i in range(len(cab_data['Date of Travel'])):\n",
    "    months.append(cab_data['Date of Travel'][i].month)\n",
    "    years.append(cab_data['Date of Travel'][i].year)\n",
    "cab_data['Month'] = months\n",
    "cab_data['Year'] = years\n",
    "\n",
    "# cab_data.drop('Date of Travel', axis=1, inplace=True)"
   ]
  },
  {
   "cell_type": "code",
   "execution_count": 10,
   "metadata": {},
   "outputs": [
    {
     "data": {
      "text/html": [
       "<div>\n",
       "<style scoped>\n",
       "    .dataframe tbody tr th:only-of-type {\n",
       "        vertical-align: middle;\n",
       "    }\n",
       "\n",
       "    .dataframe tbody tr th {\n",
       "        vertical-align: top;\n",
       "    }\n",
       "\n",
       "    .dataframe thead th {\n",
       "        text-align: right;\n",
       "    }\n",
       "</style>\n",
       "<table border=\"1\" class=\"dataframe\">\n",
       "  <thead>\n",
       "    <tr style=\"text-align: right;\">\n",
       "      <th></th>\n",
       "      <th>Transaction ID</th>\n",
       "      <th>Date of Travel</th>\n",
       "      <th>Company</th>\n",
       "      <th>City</th>\n",
       "      <th>KM Travelled</th>\n",
       "      <th>Price Charged</th>\n",
       "      <th>Cost of Trip</th>\n",
       "      <th>Month</th>\n",
       "      <th>Year</th>\n",
       "    </tr>\n",
       "  </thead>\n",
       "  <tbody>\n",
       "    <tr>\n",
       "      <th>0</th>\n",
       "      <td>10000011</td>\n",
       "      <td>2016-01-07</td>\n",
       "      <td>Pink Cab</td>\n",
       "      <td>ATLANTA GA</td>\n",
       "      <td>30.45</td>\n",
       "      <td>370.95</td>\n",
       "      <td>313.635</td>\n",
       "      <td>1</td>\n",
       "      <td>2016</td>\n",
       "    </tr>\n",
       "    <tr>\n",
       "      <th>1</th>\n",
       "      <td>10000012</td>\n",
       "      <td>2016-01-05</td>\n",
       "      <td>Pink Cab</td>\n",
       "      <td>ATLANTA GA</td>\n",
       "      <td>28.62</td>\n",
       "      <td>358.52</td>\n",
       "      <td>334.854</td>\n",
       "      <td>1</td>\n",
       "      <td>2016</td>\n",
       "    </tr>\n",
       "    <tr>\n",
       "      <th>2</th>\n",
       "      <td>10000013</td>\n",
       "      <td>2016-01-01</td>\n",
       "      <td>Pink Cab</td>\n",
       "      <td>ATLANTA GA</td>\n",
       "      <td>9.04</td>\n",
       "      <td>125.20</td>\n",
       "      <td>97.632</td>\n",
       "      <td>1</td>\n",
       "      <td>2016</td>\n",
       "    </tr>\n",
       "    <tr>\n",
       "      <th>3</th>\n",
       "      <td>10000014</td>\n",
       "      <td>2016-01-06</td>\n",
       "      <td>Pink Cab</td>\n",
       "      <td>ATLANTA GA</td>\n",
       "      <td>33.17</td>\n",
       "      <td>377.40</td>\n",
       "      <td>351.602</td>\n",
       "      <td>1</td>\n",
       "      <td>2016</td>\n",
       "    </tr>\n",
       "    <tr>\n",
       "      <th>4</th>\n",
       "      <td>10000015</td>\n",
       "      <td>2016-01-02</td>\n",
       "      <td>Pink Cab</td>\n",
       "      <td>ATLANTA GA</td>\n",
       "      <td>8.73</td>\n",
       "      <td>114.62</td>\n",
       "      <td>97.776</td>\n",
       "      <td>1</td>\n",
       "      <td>2016</td>\n",
       "    </tr>\n",
       "  </tbody>\n",
       "</table>\n",
       "</div>"
      ],
      "text/plain": [
       "   Transaction ID Date of Travel   Company        City  KM Travelled  \\\n",
       "0        10000011     2016-01-07  Pink Cab  ATLANTA GA         30.45   \n",
       "1        10000012     2016-01-05  Pink Cab  ATLANTA GA         28.62   \n",
       "2        10000013     2016-01-01  Pink Cab  ATLANTA GA          9.04   \n",
       "3        10000014     2016-01-06  Pink Cab  ATLANTA GA         33.17   \n",
       "4        10000015     2016-01-02  Pink Cab  ATLANTA GA          8.73   \n",
       "\n",
       "   Price Charged  Cost of Trip  Month  Year  \n",
       "0         370.95       313.635      1  2016  \n",
       "1         358.52       334.854      1  2016  \n",
       "2         125.20        97.632      1  2016  \n",
       "3         377.40       351.602      1  2016  \n",
       "4         114.62        97.776      1  2016  "
      ]
     },
     "execution_count": 10,
     "metadata": {},
     "output_type": "execute_result"
    }
   ],
   "source": [
    "cab_data.head()"
   ]
  },
  {
   "cell_type": "markdown",
   "metadata": {},
   "source": [
    "# 1. Profit Margin"
   ]
  },
  {
   "cell_type": "code",
   "execution_count": 11,
   "metadata": {},
   "outputs": [],
   "source": [
    "# Split the dataset into Pink Cab and Yellow Cab\n",
    "pink_cab = cab_data[cab_data['Company']=='Pink Cab']\n",
    "yellow_cab = cab_data[cab_data['Company']=='Yellow Cab']"
   ]
  },
  {
   "cell_type": "markdown",
   "metadata": {},
   "source": [
    "## Pink Cab"
   ]
  },
  {
   "cell_type": "code",
   "execution_count": 12,
   "metadata": {},
   "outputs": [
    {
     "data": {
      "text/html": [
       "<div>\n",
       "<style scoped>\n",
       "    .dataframe tbody tr th:only-of-type {\n",
       "        vertical-align: middle;\n",
       "    }\n",
       "\n",
       "    .dataframe tbody tr th {\n",
       "        vertical-align: top;\n",
       "    }\n",
       "\n",
       "    .dataframe thead th {\n",
       "        text-align: right;\n",
       "    }\n",
       "</style>\n",
       "<table border=\"1\" class=\"dataframe\">\n",
       "  <thead>\n",
       "    <tr style=\"text-align: right;\">\n",
       "      <th></th>\n",
       "      <th>Transaction ID</th>\n",
       "      <th>Date of Travel</th>\n",
       "      <th>Company</th>\n",
       "      <th>City</th>\n",
       "      <th>KM Travelled</th>\n",
       "      <th>Price Charged</th>\n",
       "      <th>Cost of Trip</th>\n",
       "      <th>Month</th>\n",
       "      <th>Year</th>\n",
       "    </tr>\n",
       "  </thead>\n",
       "  <tbody>\n",
       "    <tr>\n",
       "      <th>0</th>\n",
       "      <td>10000011</td>\n",
       "      <td>2016-01-07</td>\n",
       "      <td>Pink Cab</td>\n",
       "      <td>ATLANTA GA</td>\n",
       "      <td>30.45</td>\n",
       "      <td>370.95</td>\n",
       "      <td>313.635</td>\n",
       "      <td>1</td>\n",
       "      <td>2016</td>\n",
       "    </tr>\n",
       "    <tr>\n",
       "      <th>1</th>\n",
       "      <td>10000012</td>\n",
       "      <td>2016-01-05</td>\n",
       "      <td>Pink Cab</td>\n",
       "      <td>ATLANTA GA</td>\n",
       "      <td>28.62</td>\n",
       "      <td>358.52</td>\n",
       "      <td>334.854</td>\n",
       "      <td>1</td>\n",
       "      <td>2016</td>\n",
       "    </tr>\n",
       "    <tr>\n",
       "      <th>2</th>\n",
       "      <td>10000013</td>\n",
       "      <td>2016-01-01</td>\n",
       "      <td>Pink Cab</td>\n",
       "      <td>ATLANTA GA</td>\n",
       "      <td>9.04</td>\n",
       "      <td>125.20</td>\n",
       "      <td>97.632</td>\n",
       "      <td>1</td>\n",
       "      <td>2016</td>\n",
       "    </tr>\n",
       "    <tr>\n",
       "      <th>3</th>\n",
       "      <td>10000014</td>\n",
       "      <td>2016-01-06</td>\n",
       "      <td>Pink Cab</td>\n",
       "      <td>ATLANTA GA</td>\n",
       "      <td>33.17</td>\n",
       "      <td>377.40</td>\n",
       "      <td>351.602</td>\n",
       "      <td>1</td>\n",
       "      <td>2016</td>\n",
       "    </tr>\n",
       "    <tr>\n",
       "      <th>4</th>\n",
       "      <td>10000015</td>\n",
       "      <td>2016-01-02</td>\n",
       "      <td>Pink Cab</td>\n",
       "      <td>ATLANTA GA</td>\n",
       "      <td>8.73</td>\n",
       "      <td>114.62</td>\n",
       "      <td>97.776</td>\n",
       "      <td>1</td>\n",
       "      <td>2016</td>\n",
       "    </tr>\n",
       "  </tbody>\n",
       "</table>\n",
       "</div>"
      ],
      "text/plain": [
       "   Transaction ID Date of Travel   Company        City  KM Travelled  \\\n",
       "0        10000011     2016-01-07  Pink Cab  ATLANTA GA         30.45   \n",
       "1        10000012     2016-01-05  Pink Cab  ATLANTA GA         28.62   \n",
       "2        10000013     2016-01-01  Pink Cab  ATLANTA GA          9.04   \n",
       "3        10000014     2016-01-06  Pink Cab  ATLANTA GA         33.17   \n",
       "4        10000015     2016-01-02  Pink Cab  ATLANTA GA          8.73   \n",
       "\n",
       "   Price Charged  Cost of Trip  Month  Year  \n",
       "0         370.95       313.635      1  2016  \n",
       "1         358.52       334.854      1  2016  \n",
       "2         125.20        97.632      1  2016  \n",
       "3         377.40       351.602      1  2016  \n",
       "4         114.62        97.776      1  2016  "
      ]
     },
     "execution_count": 12,
     "metadata": {},
     "output_type": "execute_result"
    }
   ],
   "source": [
    "pink_cab.head()"
   ]
  },
  {
   "cell_type": "code",
   "execution_count": 13,
   "metadata": {},
   "outputs": [
    {
     "data": {
      "image/png": "[encoded data removed]",
      "text/plain": [
       "<Figure size 1008x432 with 1 Axes>"
      ]
     },
     "metadata": {},
     "output_type": "display_data"
    }
   ],
   "source": [
    "pink_cab_grouped_by_year = pink_cab.groupby(\"Year\")\n",
    "plot1 = pink_cab_grouped_by_year[\"Transaction ID\"].count()\n",
    "plot2 = pink_cab_grouped_by_year[\"Price Charged\"].mean()\n",
    "plot3 = pink_cab_grouped_by_year[\"Cost of Trip\"].mean()\n",
    "plt.figure(figsize=(14,6))\n",
    "ax = plt.subplot(111)\n",
    "ax.bar(plot1.index-0.2, plot3.values, width=0.4, align='center',label='Cost of the Trip')\n",
    "ax.bar(plot1.index+0.2, plot2.values, width=0.4, align='center',label='Price Charged')\n",
    "plt.ylabel('Profit',fontsize=14)\n",
    "plt.xlabel('Year',fontsize=14)\n",
    "plt.title('Pink Cab Yearly Average Profit Margin', fontsize=20)\n",
    "plt.legend()\n",
    "plt.show()"
   ]
  },
  {
   "cell_type": "code",
   "execution_count": 14,
   "metadata": {},
   "outputs": [
    {
     "data": {
      "text/html": [
       "<div>\n",
       "<style scoped>\n",
       "    .dataframe tbody tr th:only-of-type {\n",
       "        vertical-align: middle;\n",
       "    }\n",
       "\n",
       "    .dataframe tbody tr th {\n",
       "        vertical-align: top;\n",
       "    }\n",
       "\n",
       "    .dataframe thead th {\n",
       "        text-align: right;\n",
       "    }\n",
       "</style>\n",
       "<table border=\"1\" class=\"dataframe\">\n",
       "  <thead>\n",
       "    <tr style=\"text-align: right;\">\n",
       "      <th></th>\n",
       "      <th>Year</th>\n",
       "      <th>Price Charged</th>\n",
       "    </tr>\n",
       "  </thead>\n",
       "  <tbody>\n",
       "    <tr>\n",
       "      <th>0</th>\n",
       "      <td>2016</td>\n",
       "      <td>315.850071</td>\n",
       "    </tr>\n",
       "    <tr>\n",
       "      <th>1</th>\n",
       "      <td>2017</td>\n",
       "      <td>315.535059</td>\n",
       "    </tr>\n",
       "    <tr>\n",
       "      <th>2</th>\n",
       "      <td>2018</td>\n",
       "      <td>301.538134</td>\n",
       "    </tr>\n",
       "  </tbody>\n",
       "</table>\n",
       "</div>"
      ],
      "text/plain": [
       "   Year  Price Charged\n",
       "0  2016     315.850071\n",
       "1  2017     315.535059\n",
       "2  2018     301.538134"
      ]
     },
     "execution_count": 14,
     "metadata": {},
     "output_type": "execute_result"
    }
   ],
   "source": [
    "pink_cab_price_charged_mean = pink_cab_grouped_by_year[\"Price Charged\"].mean()\n",
    "pink_cab_price_charged_mean = pink_cab_price_charged_mean.to_frame()\n",
    "pink_cab_price_charged_mean.reset_index(inplace=True)\n",
    "pink_cab_price_charged_mean"
   ]
  },
  {
   "cell_type": "code",
   "execution_count": 15,
   "metadata": {},
   "outputs": [],
   "source": [
    "pink_cab_cost_of_trip_mean = pink_cab_grouped_by_year[\"Cost of Trip\"].mean()\n",
    "pink_cab_cost_of_trip_mean = pink_cab_cost_of_trip_mean.to_frame()\n",
    "pink_cab_cost_of_trip_mean.reset_index(inplace=True)"
   ]
  },
  {
   "cell_type": "code",
   "execution_count": 16,
   "metadata": {},
   "outputs": [
    {
     "data": {
      "text/html": [
       "<div>\n",
       "<style scoped>\n",
       "    .dataframe tbody tr th:only-of-type {\n",
       "        vertical-align: middle;\n",
       "    }\n",
       "\n",
       "    .dataframe tbody tr th {\n",
       "        vertical-align: top;\n",
       "    }\n",
       "\n",
       "    .dataframe thead th {\n",
       "        text-align: right;\n",
       "    }\n",
       "</style>\n",
       "<table border=\"1\" class=\"dataframe\">\n",
       "  <thead>\n",
       "    <tr style=\"text-align: right;\">\n",
       "      <th></th>\n",
       "      <th>Year</th>\n",
       "      <th>Price Charged</th>\n",
       "      <th>Cost of Trip</th>\n",
       "      <th>Profit</th>\n",
       "    </tr>\n",
       "  </thead>\n",
       "  <tbody>\n",
       "    <tr>\n",
       "      <th>0</th>\n",
       "      <td>2016</td>\n",
       "      <td>315.850071</td>\n",
       "      <td>247.039209</td>\n",
       "      <td>68.810861</td>\n",
       "    </tr>\n",
       "    <tr>\n",
       "      <th>1</th>\n",
       "      <td>2017</td>\n",
       "      <td>315.535059</td>\n",
       "      <td>248.820917</td>\n",
       "      <td>66.714142</td>\n",
       "    </tr>\n",
       "    <tr>\n",
       "      <th>2</th>\n",
       "      <td>2018</td>\n",
       "      <td>301.538134</td>\n",
       "      <td>248.413839</td>\n",
       "      <td>53.124295</td>\n",
       "    </tr>\n",
       "  </tbody>\n",
       "</table>\n",
       "</div>"
      ],
      "text/plain": [
       "   Year  Price Charged  Cost of Trip     Profit\n",
       "0  2016     315.850071    247.039209  68.810861\n",
       "1  2017     315.535059    248.820917  66.714142\n",
       "2  2018     301.538134    248.413839  53.124295"
      ]
     },
     "execution_count": 16,
     "metadata": {},
     "output_type": "execute_result"
    }
   ],
   "source": [
    "pink_merged_priceCharged_and_CostOfTrip = pd.merge(pink_cab_price_charged_mean, pink_cab_cost_of_trip_mean)\n",
    "pink_merged_priceCharged_and_CostOfTrip[\"Profit\"] = pink_merged_priceCharged_and_CostOfTrip[\"Price Charged\"] - pink_merged_priceCharged_and_CostOfTrip[\"Cost of Trip\"]\n",
    "pink_merged_priceCharged_and_CostOfTrip"
   ]
  },
  {
   "cell_type": "markdown",
   "metadata": {},
   "source": [
    "## Yellow Cab"
   ]
  },
  {
   "cell_type": "code",
   "execution_count": 17,
   "metadata": {},
   "outputs": [],
   "source": [
    "yellow_cab.head()\n",
    "yellow_cab_grouped_by_year = yellow_cab.groupby(\"Year\")"
   ]
  },
  {
   "cell_type": "code",
   "execution_count": 18,
   "metadata": {},
   "outputs": [
    {
     "data": {
      "image/png": "[encoded data removed]",
      "text/plain": [
       "<Figure size 1008x432 with 1 Axes>"
      ]
     },
     "metadata": {},
     "output_type": "display_data"
    }
   ],
   "source": [
    "plot1 = yellow_cab_grouped_by_year[\"Transaction ID\"].count()\n",
    "plot3 = yellow_cab_grouped_by_year[\"Price Charged\"].mean()\n",
    "plot4 = yellow_cab_grouped_by_year[\"Cost of Trip\"].mean()\n",
    "plt.figure(figsize=(14,6))\n",
    "ax = plt.subplot(111)\n",
    "ax.bar(plot1.index-0.2, plot4.values, width=0.4, align='center',label='Cost of the Trip')\n",
    "ax.bar(plot1.index+0.2, plot3.values, width=0.4, align='center',label='Price Charged')\n",
    "plt.ylabel('Profit', fontsize=14)\n",
    "plt.xlabel('Year', fontsize=14)\n",
    "plt.title('Yellow Cab Yearly Average Profit Margin', fontsize=20)\n",
    "plt.legend()\n",
    "plt.show()"
   ]
  },
  {
   "cell_type": "code",
   "execution_count": 19,
   "metadata": {},
   "outputs": [
    {
     "data": {
      "text/html": [
       "<div>\n",
       "<style scoped>\n",
       "    .dataframe tbody tr th:only-of-type {\n",
       "        vertical-align: middle;\n",
       "    }\n",
       "\n",
       "    .dataframe tbody tr th {\n",
       "        vertical-align: top;\n",
       "    }\n",
       "\n",
       "    .dataframe thead th {\n",
       "        text-align: right;\n",
       "    }\n",
       "</style>\n",
       "<table border=\"1\" class=\"dataframe\">\n",
       "  <thead>\n",
       "    <tr style=\"text-align: right;\">\n",
       "      <th></th>\n",
       "      <th>Year</th>\n",
       "      <th>Price Charged</th>\n",
       "    </tr>\n",
       "  </thead>\n",
       "  <tbody>\n",
       "    <tr>\n",
       "      <th>0</th>\n",
       "      <td>2016</td>\n",
       "      <td>468.230462</td>\n",
       "    </tr>\n",
       "    <tr>\n",
       "      <th>1</th>\n",
       "      <td>2017</td>\n",
       "      <td>466.278438</td>\n",
       "    </tr>\n",
       "    <tr>\n",
       "      <th>2</th>\n",
       "      <td>2018</td>\n",
       "      <td>440.893159</td>\n",
       "    </tr>\n",
       "  </tbody>\n",
       "</table>\n",
       "</div>"
      ],
      "text/plain": [
       "   Year  Price Charged\n",
       "0  2016     468.230462\n",
       "1  2017     466.278438\n",
       "2  2018     440.893159"
      ]
     },
     "execution_count": 19,
     "metadata": {},
     "output_type": "execute_result"
    }
   ],
   "source": [
    "yellow_cab_price_charged_mean = yellow_cab_grouped_by_year[\"Price Charged\"].mean()\n",
    "yellow_cab_price_charged_mean = yellow_cab_price_charged_mean.to_frame()\n",
    "yellow_cab_price_charged_mean.reset_index(inplace=True)\n",
    "yellow_cab_price_charged_mean"
   ]
  },
  {
   "cell_type": "code",
   "execution_count": 20,
   "metadata": {},
   "outputs": [],
   "source": [
    "yellow_cab_cost_of_trip_mean = yellow_cab_grouped_by_year[\"Cost of Trip\"].mean()\n",
    "yellow_cab_cost_of_trip_mean = yellow_cab_cost_of_trip_mean.to_frame()\n",
    "yellow_cab_cost_of_trip_mean.reset_index(inplace=True)"
   ]
  },
  {
   "cell_type": "code",
   "execution_count": 21,
   "metadata": {},
   "outputs": [
    {
     "data": {
      "text/html": [
       "<div>\n",
       "<style scoped>\n",
       "    .dataframe tbody tr th:only-of-type {\n",
       "        vertical-align: middle;\n",
       "    }\n",
       "\n",
       "    .dataframe tbody tr th {\n",
       "        vertical-align: top;\n",
       "    }\n",
       "\n",
       "    .dataframe thead th {\n",
       "        text-align: right;\n",
       "    }\n",
       "</style>\n",
       "<table border=\"1\" class=\"dataframe\">\n",
       "  <thead>\n",
       "    <tr style=\"text-align: right;\">\n",
       "      <th></th>\n",
       "      <th>Year</th>\n",
       "      <th>Price Charged</th>\n",
       "      <th>Cost of Trip</th>\n",
       "      <th>Profit</th>\n",
       "    </tr>\n",
       "  </thead>\n",
       "  <tbody>\n",
       "    <tr>\n",
       "      <th>0</th>\n",
       "      <td>2016</td>\n",
       "      <td>468.230462</td>\n",
       "      <td>298.536761</td>\n",
       "      <td>169.693701</td>\n",
       "    </tr>\n",
       "    <tr>\n",
       "      <th>1</th>\n",
       "      <td>2017</td>\n",
       "      <td>466.278438</td>\n",
       "      <td>297.861544</td>\n",
       "      <td>168.416894</td>\n",
       "    </tr>\n",
       "    <tr>\n",
       "      <th>2</th>\n",
       "      <td>2018</td>\n",
       "      <td>440.893159</td>\n",
       "      <td>297.442400</td>\n",
       "      <td>143.450759</td>\n",
       "    </tr>\n",
       "  </tbody>\n",
       "</table>\n",
       "</div>"
      ],
      "text/plain": [
       "   Year  Price Charged  Cost of Trip      Profit\n",
       "0  2016     468.230462    298.536761  169.693701\n",
       "1  2017     466.278438    297.861544  168.416894\n",
       "2  2018     440.893159    297.442400  143.450759"
      ]
     },
     "execution_count": 21,
     "metadata": {},
     "output_type": "execute_result"
    }
   ],
   "source": [
    "yellow_merged_priceCharged_and_CostOfTrip = pd.merge(yellow_cab_price_charged_mean, yellow_cab_cost_of_trip_mean)\n",
    "yellow_merged_priceCharged_and_CostOfTrip[\"Profit\"] = yellow_merged_priceCharged_and_CostOfTrip[\"Price Charged\"] - yellow_merged_priceCharged_and_CostOfTrip[\"Cost of Trip\"]\n",
    "yellow_merged_priceCharged_and_CostOfTrip"
   ]
  },
  {
   "cell_type": "code",
   "execution_count": 22,
   "metadata": {},
   "outputs": [],
   "source": [
    "pink_merged_priceCharged_and_CostOfTrip = pink_merged_priceCharged_and_CostOfTrip[[\"Year\", \"Profit\"]]\n",
    "yellow_merged_priceCharged_and_CostOfTrip = yellow_merged_priceCharged_and_CostOfTrip[[\"Year\", \"Profit\"]]"
   ]
  },
  {
   "cell_type": "code",
   "execution_count": 23,
   "metadata": {},
   "outputs": [
    {
     "data": {
      "text/html": [
       "<div>\n",
       "<style scoped>\n",
       "    .dataframe tbody tr th:only-of-type {\n",
       "        vertical-align: middle;\n",
       "    }\n",
       "\n",
       "    .dataframe tbody tr th {\n",
       "        vertical-align: top;\n",
       "    }\n",
       "\n",
       "    .dataframe thead th {\n",
       "        text-align: right;\n",
       "    }\n",
       "</style>\n",
       "<table border=\"1\" class=\"dataframe\">\n",
       "  <thead>\n",
       "    <tr style=\"text-align: right;\">\n",
       "      <th></th>\n",
       "      <th>Year</th>\n",
       "      <th>Pink Annual Profit(Mean)</th>\n",
       "      <th>Yellow Annual Profit(Mean)</th>\n",
       "    </tr>\n",
       "  </thead>\n",
       "  <tbody>\n",
       "    <tr>\n",
       "      <th>0</th>\n",
       "      <td>2016</td>\n",
       "      <td>68.810861</td>\n",
       "      <td>169.693701</td>\n",
       "    </tr>\n",
       "    <tr>\n",
       "      <th>1</th>\n",
       "      <td>2017</td>\n",
       "      <td>66.714142</td>\n",
       "      <td>168.416894</td>\n",
       "    </tr>\n",
       "    <tr>\n",
       "      <th>2</th>\n",
       "      <td>2018</td>\n",
       "      <td>53.124295</td>\n",
       "      <td>143.450759</td>\n",
       "    </tr>\n",
       "  </tbody>\n",
       "</table>\n",
       "</div>"
      ],
      "text/plain": [
       "   Year  Pink Annual Profit(Mean)  Yellow Annual Profit(Mean)\n",
       "0  2016                 68.810861                  169.693701\n",
       "1  2017                 66.714142                  168.416894\n",
       "2  2018                 53.124295                  143.450759"
      ]
     },
     "execution_count": 23,
     "metadata": {},
     "output_type": "execute_result"
    }
   ],
   "source": [
    "Annual_profit = pd.merge(pink_merged_priceCharged_and_CostOfTrip, yellow_merged_priceCharged_and_CostOfTrip, on=\"Year\")\n",
    "Annual_profit.columns = [\"Year\",\"Pink Annual Profit(Mean)\", \"Yellow Annual Profit(Mean)\"]\n",
    "Annual_profit"
   ]
  },
  {
   "cell_type": "markdown",
   "metadata": {},
   "source": [
    "### Conclusion\n",
    "\n",
    "- From the Analysis above, Yellow cab has a higher profit margin"
   ]
  },
  {
   "cell_type": "code",
   "execution_count": null,
   "metadata": {},
   "outputs": [],
   "source": []
  },
  {
   "cell_type": "markdown",
   "metadata": {},
   "source": [
    "# 2. Compare Customer Base"
   ]
  },
  {
   "cell_type": "code",
   "execution_count": 24,
   "metadata": {},
   "outputs": [],
   "source": [
    "customer_data = pd.read_csv(\"Customer_ID.csv\")\n",
    "Transaction_data = pd.read_csv(\"Transaction_ID.csv\")"
   ]
  },
  {
   "cell_type": "code",
   "execution_count": 25,
   "metadata": {},
   "outputs": [
    {
     "data": {
      "text/html": [
       "<div>\n",
       "<style scoped>\n",
       "    .dataframe tbody tr th:only-of-type {\n",
       "        vertical-align: middle;\n",
       "    }\n",
       "\n",
       "    .dataframe tbody tr th {\n",
       "        vertical-align: top;\n",
       "    }\n",
       "\n",
       "    .dataframe thead th {\n",
       "        text-align: right;\n",
       "    }\n",
       "</style>\n",
       "<table border=\"1\" class=\"dataframe\">\n",
       "  <thead>\n",
       "    <tr style=\"text-align: right;\">\n",
       "      <th></th>\n",
       "      <th>Customer ID</th>\n",
       "      <th>Gender</th>\n",
       "      <th>Age</th>\n",
       "      <th>Income (USD/Month)</th>\n",
       "    </tr>\n",
       "  </thead>\n",
       "  <tbody>\n",
       "    <tr>\n",
       "      <th>0</th>\n",
       "      <td>29290</td>\n",
       "      <td>Male</td>\n",
       "      <td>28</td>\n",
       "      <td>10813</td>\n",
       "    </tr>\n",
       "    <tr>\n",
       "      <th>1</th>\n",
       "      <td>27703</td>\n",
       "      <td>Male</td>\n",
       "      <td>27</td>\n",
       "      <td>9237</td>\n",
       "    </tr>\n",
       "    <tr>\n",
       "      <th>2</th>\n",
       "      <td>28712</td>\n",
       "      <td>Male</td>\n",
       "      <td>53</td>\n",
       "      <td>11242</td>\n",
       "    </tr>\n",
       "    <tr>\n",
       "      <th>3</th>\n",
       "      <td>28020</td>\n",
       "      <td>Male</td>\n",
       "      <td>23</td>\n",
       "      <td>23327</td>\n",
       "    </tr>\n",
       "    <tr>\n",
       "      <th>4</th>\n",
       "      <td>27182</td>\n",
       "      <td>Male</td>\n",
       "      <td>33</td>\n",
       "      <td>8536</td>\n",
       "    </tr>\n",
       "  </tbody>\n",
       "</table>\n",
       "</div>"
      ],
      "text/plain": [
       "   Customer ID Gender  Age  Income (USD/Month)\n",
       "0        29290   Male   28               10813\n",
       "1        27703   Male   27                9237\n",
       "2        28712   Male   53               11242\n",
       "3        28020   Male   23               23327\n",
       "4        27182   Male   33                8536"
      ]
     },
     "execution_count": 25,
     "metadata": {},
     "output_type": "execute_result"
    }
   ],
   "source": [
    "customer_data.head()"
   ]
  },
  {
   "cell_type": "code",
   "execution_count": 26,
   "metadata": {},
   "outputs": [
    {
     "data": {
      "text/html": [
       "<div>\n",
       "<style scoped>\n",
       "    .dataframe tbody tr th:only-of-type {\n",
       "        vertical-align: middle;\n",
       "    }\n",
       "\n",
       "    .dataframe tbody tr th {\n",
       "        vertical-align: top;\n",
       "    }\n",
       "\n",
       "    .dataframe thead th {\n",
       "        text-align: right;\n",
       "    }\n",
       "</style>\n",
       "<table border=\"1\" class=\"dataframe\">\n",
       "  <thead>\n",
       "    <tr style=\"text-align: right;\">\n",
       "      <th></th>\n",
       "      <th>Transaction ID</th>\n",
       "      <th>Customer ID</th>\n",
       "      <th>Payment_Mode</th>\n",
       "    </tr>\n",
       "  </thead>\n",
       "  <tbody>\n",
       "    <tr>\n",
       "      <th>0</th>\n",
       "      <td>10000011</td>\n",
       "      <td>29290</td>\n",
       "      <td>Card</td>\n",
       "    </tr>\n",
       "    <tr>\n",
       "      <th>1</th>\n",
       "      <td>10000012</td>\n",
       "      <td>27703</td>\n",
       "      <td>Card</td>\n",
       "    </tr>\n",
       "    <tr>\n",
       "      <th>2</th>\n",
       "      <td>10000013</td>\n",
       "      <td>28712</td>\n",
       "      <td>Cash</td>\n",
       "    </tr>\n",
       "    <tr>\n",
       "      <th>3</th>\n",
       "      <td>10000014</td>\n",
       "      <td>28020</td>\n",
       "      <td>Cash</td>\n",
       "    </tr>\n",
       "    <tr>\n",
       "      <th>4</th>\n",
       "      <td>10000015</td>\n",
       "      <td>27182</td>\n",
       "      <td>Card</td>\n",
       "    </tr>\n",
       "  </tbody>\n",
       "</table>\n",
       "</div>"
      ],
      "text/plain": [
       "   Transaction ID  Customer ID Payment_Mode\n",
       "0        10000011        29290         Card\n",
       "1        10000012        27703         Card\n",
       "2        10000013        28712         Cash\n",
       "3        10000014        28020         Cash\n",
       "4        10000015        27182         Card"
      ]
     },
     "execution_count": 26,
     "metadata": {},
     "output_type": "execute_result"
    }
   ],
   "source": [
    "Transaction_data.head()"
   ]
  },
  {
   "cell_type": "code",
   "execution_count": 27,
   "metadata": {},
   "outputs": [],
   "source": [
    "customer_transaction_data = pd.merge(customer_data, Transaction_data)"
   ]
  },
  {
   "cell_type": "code",
   "execution_count": 28,
   "metadata": {},
   "outputs": [
    {
     "data": {
      "text/html": [
       "<div>\n",
       "<style scoped>\n",
       "    .dataframe tbody tr th:only-of-type {\n",
       "        vertical-align: middle;\n",
       "    }\n",
       "\n",
       "    .dataframe tbody tr th {\n",
       "        vertical-align: top;\n",
       "    }\n",
       "\n",
       "    .dataframe thead th {\n",
       "        text-align: right;\n",
       "    }\n",
       "</style>\n",
       "<table border=\"1\" class=\"dataframe\">\n",
       "  <thead>\n",
       "    <tr style=\"text-align: right;\">\n",
       "      <th></th>\n",
       "      <th>Customer ID</th>\n",
       "      <th>Gender</th>\n",
       "      <th>Age</th>\n",
       "      <th>Income (USD/Month)</th>\n",
       "      <th>Transaction ID</th>\n",
       "      <th>Payment_Mode</th>\n",
       "    </tr>\n",
       "  </thead>\n",
       "  <tbody>\n",
       "    <tr>\n",
       "      <th>0</th>\n",
       "      <td>29290</td>\n",
       "      <td>Male</td>\n",
       "      <td>28</td>\n",
       "      <td>10813</td>\n",
       "      <td>10000011</td>\n",
       "      <td>Card</td>\n",
       "    </tr>\n",
       "    <tr>\n",
       "      <th>1</th>\n",
       "      <td>29290</td>\n",
       "      <td>Male</td>\n",
       "      <td>28</td>\n",
       "      <td>10813</td>\n",
       "      <td>10351127</td>\n",
       "      <td>Cash</td>\n",
       "    </tr>\n",
       "    <tr>\n",
       "      <th>2</th>\n",
       "      <td>29290</td>\n",
       "      <td>Male</td>\n",
       "      <td>28</td>\n",
       "      <td>10813</td>\n",
       "      <td>10412921</td>\n",
       "      <td>Card</td>\n",
       "    </tr>\n",
       "    <tr>\n",
       "      <th>3</th>\n",
       "      <td>27703</td>\n",
       "      <td>Male</td>\n",
       "      <td>27</td>\n",
       "      <td>9237</td>\n",
       "      <td>10000012</td>\n",
       "      <td>Card</td>\n",
       "    </tr>\n",
       "    <tr>\n",
       "      <th>4</th>\n",
       "      <td>27703</td>\n",
       "      <td>Male</td>\n",
       "      <td>27</td>\n",
       "      <td>9237</td>\n",
       "      <td>10320494</td>\n",
       "      <td>Card</td>\n",
       "    </tr>\n",
       "  </tbody>\n",
       "</table>\n",
       "</div>"
      ],
      "text/plain": [
       "   Customer ID Gender  Age  Income (USD/Month)  Transaction ID Payment_Mode\n",
       "0        29290   Male   28               10813        10000011         Card\n",
       "1        29290   Male   28               10813        10351127         Cash\n",
       "2        29290   Male   28               10813        10412921         Card\n",
       "3        27703   Male   27                9237        10000012         Card\n",
       "4        27703   Male   27                9237        10320494         Card"
      ]
     },
     "execution_count": 28,
     "metadata": {},
     "output_type": "execute_result"
    }
   ],
   "source": [
    "customer_transaction_data.head()"
   ]
  },
  {
   "cell_type": "markdown",
   "metadata": {},
   "source": [
    "## Calculate Largest Customer Base"
   ]
  },
  {
   "cell_type": "code",
   "execution_count": 29,
   "metadata": {},
   "outputs": [],
   "source": [
    "pink_cab_data = cab_data.loc[cab_data[\"Company\"] == \"Pink Cab\"]\n",
    "pink_customer_base = pd.merge(pink_cab_data, customer_transaction_data)"
   ]
  },
  {
   "cell_type": "code",
   "execution_count": 30,
   "metadata": {},
   "outputs": [
    {
     "data": {
      "text/plain": [
       "(84711, 14)"
      ]
     },
     "execution_count": 30,
     "metadata": {},
     "output_type": "execute_result"
    }
   ],
   "source": [
    "pink_customer_base.shape"
   ]
  },
  {
   "cell_type": "code",
   "execution_count": 31,
   "metadata": {},
   "outputs": [],
   "source": [
    "yellow_cab_data = cab_data.loc[cab_data[\"Company\"] == \"Yellow Cab\"]\n",
    "yellow_customer_base = pd.merge(yellow_cab_data, customer_transaction_data)"
   ]
  },
  {
   "cell_type": "code",
   "execution_count": 32,
   "metadata": {},
   "outputs": [
    {
     "data": {
      "text/plain": [
       "(274681, 14)"
      ]
     },
     "execution_count": 32,
     "metadata": {},
     "output_type": "execute_result"
    }
   ],
   "source": [
    "yellow_customer_base.shape"
   ]
  },
  {
   "cell_type": "code",
   "execution_count": 33,
   "metadata": {},
   "outputs": [
    {
     "name": "stdout",
     "output_type": "stream",
     "text": [
      "Yellow customer base: 274681, and Pinks Customer base: 84711\n"
     ]
    }
   ],
   "source": [
    "print(f\"Yellow customer base: {yellow_customer_base.shape[0]}, and Pinks Customer base: {pink_customer_base.shape[0]}\")"
   ]
  },
  {
   "cell_type": "code",
   "execution_count": 34,
   "metadata": {},
   "outputs": [
    {
     "data": {
      "image/png": "[encoded data removed]",
      "text/plain": [
       "<Figure size 432x288 with 1 Axes>"
      ]
     },
     "metadata": {},
     "output_type": "display_data"
    }
   ],
   "source": [
    "pie_data = [yellow_customer_base.shape[0], pink_customer_base.shape[0]]\n",
    "labels = ['Yellow', 'Pink']\n",
    "plt.pie(pie_data, labels = labels, radius=2, autopct='%.0f%%')\n",
    "# plt.title(\"Customer Base\")\n",
    "plt.show()"
   ]
  },
  {
   "cell_type": "markdown",
   "metadata": {},
   "source": [
    "### Conclusion\n",
    "\n",
    "- Therefore Yellow has a larger customer base"
   ]
  },
  {
   "cell_type": "code",
   "execution_count": null,
   "metadata": {},
   "outputs": [],
   "source": []
  },
  {
   "cell_type": "markdown",
   "metadata": {},
   "source": [
    "# 3. Revenue Growth"
   ]
  },
  {
   "cell_type": "markdown",
   "metadata": {},
   "source": [
    "## Pink"
   ]
  },
  {
   "cell_type": "code",
   "execution_count": 35,
   "metadata": {},
   "outputs": [
    {
     "data": {
      "text/html": [
       "<div>\n",
       "<style scoped>\n",
       "    .dataframe tbody tr th:only-of-type {\n",
       "        vertical-align: middle;\n",
       "    }\n",
       "\n",
       "    .dataframe tbody tr th {\n",
       "        vertical-align: top;\n",
       "    }\n",
       "\n",
       "    .dataframe thead th {\n",
       "        text-align: right;\n",
       "    }\n",
       "</style>\n",
       "<table border=\"1\" class=\"dataframe\">\n",
       "  <thead>\n",
       "    <tr style=\"text-align: right;\">\n",
       "      <th></th>\n",
       "      <th>Transaction ID</th>\n",
       "      <th>Date of Travel</th>\n",
       "      <th>Company</th>\n",
       "      <th>City</th>\n",
       "      <th>KM Travelled</th>\n",
       "      <th>Price Charged</th>\n",
       "      <th>Cost of Trip</th>\n",
       "      <th>Month</th>\n",
       "      <th>Year</th>\n",
       "    </tr>\n",
       "  </thead>\n",
       "  <tbody>\n",
       "    <tr>\n",
       "      <th>0</th>\n",
       "      <td>10000011</td>\n",
       "      <td>2016-01-07</td>\n",
       "      <td>Pink Cab</td>\n",
       "      <td>ATLANTA GA</td>\n",
       "      <td>30.45</td>\n",
       "      <td>370.95</td>\n",
       "      <td>313.635</td>\n",
       "      <td>1</td>\n",
       "      <td>2016</td>\n",
       "    </tr>\n",
       "    <tr>\n",
       "      <th>1</th>\n",
       "      <td>10000012</td>\n",
       "      <td>2016-01-05</td>\n",
       "      <td>Pink Cab</td>\n",
       "      <td>ATLANTA GA</td>\n",
       "      <td>28.62</td>\n",
       "      <td>358.52</td>\n",
       "      <td>334.854</td>\n",
       "      <td>1</td>\n",
       "      <td>2016</td>\n",
       "    </tr>\n",
       "    <tr>\n",
       "      <th>2</th>\n",
       "      <td>10000013</td>\n",
       "      <td>2016-01-01</td>\n",
       "      <td>Pink Cab</td>\n",
       "      <td>ATLANTA GA</td>\n",
       "      <td>9.04</td>\n",
       "      <td>125.20</td>\n",
       "      <td>97.632</td>\n",
       "      <td>1</td>\n",
       "      <td>2016</td>\n",
       "    </tr>\n",
       "    <tr>\n",
       "      <th>3</th>\n",
       "      <td>10000014</td>\n",
       "      <td>2016-01-06</td>\n",
       "      <td>Pink Cab</td>\n",
       "      <td>ATLANTA GA</td>\n",
       "      <td>33.17</td>\n",
       "      <td>377.40</td>\n",
       "      <td>351.602</td>\n",
       "      <td>1</td>\n",
       "      <td>2016</td>\n",
       "    </tr>\n",
       "    <tr>\n",
       "      <th>4</th>\n",
       "      <td>10000015</td>\n",
       "      <td>2016-01-02</td>\n",
       "      <td>Pink Cab</td>\n",
       "      <td>ATLANTA GA</td>\n",
       "      <td>8.73</td>\n",
       "      <td>114.62</td>\n",
       "      <td>97.776</td>\n",
       "      <td>1</td>\n",
       "      <td>2016</td>\n",
       "    </tr>\n",
       "  </tbody>\n",
       "</table>\n",
       "</div>"
      ],
      "text/plain": [
       "   Transaction ID Date of Travel   Company        City  KM Travelled  \\\n",
       "0        10000011     2016-01-07  Pink Cab  ATLANTA GA         30.45   \n",
       "1        10000012     2016-01-05  Pink Cab  ATLANTA GA         28.62   \n",
       "2        10000013     2016-01-01  Pink Cab  ATLANTA GA          9.04   \n",
       "3        10000014     2016-01-06  Pink Cab  ATLANTA GA         33.17   \n",
       "4        10000015     2016-01-02  Pink Cab  ATLANTA GA          8.73   \n",
       "\n",
       "   Price Charged  Cost of Trip  Month  Year  \n",
       "0         370.95       313.635      1  2016  \n",
       "1         358.52       334.854      1  2016  \n",
       "2         125.20        97.632      1  2016  \n",
       "3         377.40       351.602      1  2016  \n",
       "4         114.62        97.776      1  2016  "
      ]
     },
     "execution_count": 35,
     "metadata": {},
     "output_type": "execute_result"
    }
   ],
   "source": [
    "cab_data.head()"
   ]
  },
  {
   "cell_type": "code",
   "execution_count": 36,
   "metadata": {},
   "outputs": [
    {
     "data": {
      "text/html": [
       "<div>\n",
       "<style scoped>\n",
       "    .dataframe tbody tr th:only-of-type {\n",
       "        vertical-align: middle;\n",
       "    }\n",
       "\n",
       "    .dataframe tbody tr th {\n",
       "        vertical-align: top;\n",
       "    }\n",
       "\n",
       "    .dataframe thead th {\n",
       "        text-align: right;\n",
       "    }\n",
       "</style>\n",
       "<table border=\"1\" class=\"dataframe\">\n",
       "  <thead>\n",
       "    <tr style=\"text-align: right;\">\n",
       "      <th></th>\n",
       "      <th>Transaction ID</th>\n",
       "      <th>Date of Travel</th>\n",
       "      <th>Company</th>\n",
       "      <th>City</th>\n",
       "      <th>KM Travelled</th>\n",
       "      <th>Price Charged</th>\n",
       "      <th>Cost of Trip</th>\n",
       "      <th>Month</th>\n",
       "      <th>Year</th>\n",
       "      <th>Customer ID</th>\n",
       "      <th>Gender</th>\n",
       "      <th>Age</th>\n",
       "      <th>Income (USD/Month)</th>\n",
       "      <th>Payment_Mode</th>\n",
       "    </tr>\n",
       "  </thead>\n",
       "  <tbody>\n",
       "    <tr>\n",
       "      <th>0</th>\n",
       "      <td>10000011</td>\n",
       "      <td>2016-01-07</td>\n",
       "      <td>Pink Cab</td>\n",
       "      <td>ATLANTA GA</td>\n",
       "      <td>30.45</td>\n",
       "      <td>370.95</td>\n",
       "      <td>313.635</td>\n",
       "      <td>1</td>\n",
       "      <td>2016</td>\n",
       "      <td>29290</td>\n",
       "      <td>Male</td>\n",
       "      <td>28</td>\n",
       "      <td>10813</td>\n",
       "      <td>Card</td>\n",
       "    </tr>\n",
       "    <tr>\n",
       "      <th>1</th>\n",
       "      <td>10000012</td>\n",
       "      <td>2016-01-05</td>\n",
       "      <td>Pink Cab</td>\n",
       "      <td>ATLANTA GA</td>\n",
       "      <td>28.62</td>\n",
       "      <td>358.52</td>\n",
       "      <td>334.854</td>\n",
       "      <td>1</td>\n",
       "      <td>2016</td>\n",
       "      <td>27703</td>\n",
       "      <td>Male</td>\n",
       "      <td>27</td>\n",
       "      <td>9237</td>\n",
       "      <td>Card</td>\n",
       "    </tr>\n",
       "    <tr>\n",
       "      <th>2</th>\n",
       "      <td>10000013</td>\n",
       "      <td>2016-01-01</td>\n",
       "      <td>Pink Cab</td>\n",
       "      <td>ATLANTA GA</td>\n",
       "      <td>9.04</td>\n",
       "      <td>125.20</td>\n",
       "      <td>97.632</td>\n",
       "      <td>1</td>\n",
       "      <td>2016</td>\n",
       "      <td>28712</td>\n",
       "      <td>Male</td>\n",
       "      <td>53</td>\n",
       "      <td>11242</td>\n",
       "      <td>Cash</td>\n",
       "    </tr>\n",
       "    <tr>\n",
       "      <th>3</th>\n",
       "      <td>10000014</td>\n",
       "      <td>2016-01-06</td>\n",
       "      <td>Pink Cab</td>\n",
       "      <td>ATLANTA GA</td>\n",
       "      <td>33.17</td>\n",
       "      <td>377.40</td>\n",
       "      <td>351.602</td>\n",
       "      <td>1</td>\n",
       "      <td>2016</td>\n",
       "      <td>28020</td>\n",
       "      <td>Male</td>\n",
       "      <td>23</td>\n",
       "      <td>23327</td>\n",
       "      <td>Cash</td>\n",
       "    </tr>\n",
       "    <tr>\n",
       "      <th>4</th>\n",
       "      <td>10000015</td>\n",
       "      <td>2016-01-02</td>\n",
       "      <td>Pink Cab</td>\n",
       "      <td>ATLANTA GA</td>\n",
       "      <td>8.73</td>\n",
       "      <td>114.62</td>\n",
       "      <td>97.776</td>\n",
       "      <td>1</td>\n",
       "      <td>2016</td>\n",
       "      <td>27182</td>\n",
       "      <td>Male</td>\n",
       "      <td>33</td>\n",
       "      <td>8536</td>\n",
       "      <td>Card</td>\n",
       "    </tr>\n",
       "  </tbody>\n",
       "</table>\n",
       "</div>"
      ],
      "text/plain": [
       "   Transaction ID Date of Travel   Company        City  KM Travelled  \\\n",
       "0        10000011     2016-01-07  Pink Cab  ATLANTA GA         30.45   \n",
       "1        10000012     2016-01-05  Pink Cab  ATLANTA GA         28.62   \n",
       "2        10000013     2016-01-01  Pink Cab  ATLANTA GA          9.04   \n",
       "3        10000014     2016-01-06  Pink Cab  ATLANTA GA         33.17   \n",
       "4        10000015     2016-01-02  Pink Cab  ATLANTA GA          8.73   \n",
       "\n",
       "   Price Charged  Cost of Trip  Month  Year  Customer ID Gender  Age  \\\n",
       "0         370.95       313.635      1  2016        29290   Male   28   \n",
       "1         358.52       334.854      1  2016        27703   Male   27   \n",
       "2         125.20        97.632      1  2016        28712   Male   53   \n",
       "3         377.40       351.602      1  2016        28020   Male   23   \n",
       "4         114.62        97.776      1  2016        27182   Male   33   \n",
       "\n",
       "   Income (USD/Month) Payment_Mode  \n",
       "0               10813         Card  \n",
       "1                9237         Card  \n",
       "2               11242         Cash  \n",
       "3               23327         Cash  \n",
       "4                8536         Card  "
      ]
     },
     "execution_count": 36,
     "metadata": {},
     "output_type": "execute_result"
    }
   ],
   "source": [
    "pink_customer_base.head()"
   ]
  },
  {
   "cell_type": "code",
   "execution_count": 37,
   "metadata": {},
   "outputs": [],
   "source": [
    "grouped_pink_customer_base = pink_customer_base.groupby(pink_customer_base[\"Date of Travel\"].dt.year).sum()"
   ]
  },
  {
   "cell_type": "code",
   "execution_count": 38,
   "metadata": {},
   "outputs": [
    {
     "data": {
      "text/html": [
       "<div>\n",
       "<style scoped>\n",
       "    .dataframe tbody tr th:only-of-type {\n",
       "        vertical-align: middle;\n",
       "    }\n",
       "\n",
       "    .dataframe tbody tr th {\n",
       "        vertical-align: top;\n",
       "    }\n",
       "\n",
       "    .dataframe thead th {\n",
       "        text-align: right;\n",
       "    }\n",
       "</style>\n",
       "<table border=\"1\" class=\"dataframe\">\n",
       "  <thead>\n",
       "    <tr style=\"text-align: right;\">\n",
       "      <th></th>\n",
       "      <th>Transaction ID</th>\n",
       "      <th>KM Travelled</th>\n",
       "      <th>Price Charged</th>\n",
       "      <th>Cost of Trip</th>\n",
       "      <th>Month</th>\n",
       "      <th>Year</th>\n",
       "      <th>Customer ID</th>\n",
       "      <th>Age</th>\n",
       "      <th>Income (USD/Month)</th>\n",
       "    </tr>\n",
       "    <tr>\n",
       "      <th>Date of Travel</th>\n",
       "      <th></th>\n",
       "      <th></th>\n",
       "      <th></th>\n",
       "      <th></th>\n",
       "      <th></th>\n",
       "      <th></th>\n",
       "      <th></th>\n",
       "      <th></th>\n",
       "      <th></th>\n",
       "    </tr>\n",
       "  </thead>\n",
       "  <tbody>\n",
       "    <tr>\n",
       "      <th>2016</th>\n",
       "      <td>254612588772</td>\n",
       "      <td>568212.65</td>\n",
       "      <td>7986269.04</td>\n",
       "      <td>6246386.412</td>\n",
       "      <td>201510</td>\n",
       "      <td>50974560</td>\n",
       "      <td>467258335</td>\n",
       "      <td>895358</td>\n",
       "      <td>382372515</td>\n",
       "    </tr>\n",
       "    <tr>\n",
       "      <th>2017</th>\n",
       "      <td>308528489698</td>\n",
       "      <td>683134.55</td>\n",
       "      <td>9530736.47</td>\n",
       "      <td>7515635.813</td>\n",
       "      <td>237762</td>\n",
       "      <td>60923485</td>\n",
       "      <td>555291017</td>\n",
       "      <td>1064375</td>\n",
       "      <td>454742817</td>\n",
       "    </tr>\n",
       "    <tr>\n",
       "      <th>2018</th>\n",
       "      <td>302938952109</td>\n",
       "      <td>659725.91</td>\n",
       "      <td>8811245.82</td>\n",
       "      <td>7258900.784</td>\n",
       "      <td>222846</td>\n",
       "      <td>58967978</td>\n",
       "      <td>538045956</td>\n",
       "      <td>1032464</td>\n",
       "      <td>438551610</td>\n",
       "    </tr>\n",
       "  </tbody>\n",
       "</table>\n",
       "</div>"
      ],
      "text/plain": [
       "                Transaction ID  KM Travelled  Price Charged  Cost of Trip  \\\n",
       "Date of Travel                                                              \n",
       "2016              254612588772     568212.65     7986269.04   6246386.412   \n",
       "2017              308528489698     683134.55     9530736.47   7515635.813   \n",
       "2018              302938952109     659725.91     8811245.82   7258900.784   \n",
       "\n",
       "                 Month      Year  Customer ID      Age  Income (USD/Month)  \n",
       "Date of Travel                                                              \n",
       "2016            201510  50974560    467258335   895358           382372515  \n",
       "2017            237762  60923485    555291017  1064375           454742817  \n",
       "2018            222846  58967978    538045956  1032464           438551610  "
      ]
     },
     "execution_count": 38,
     "metadata": {},
     "output_type": "execute_result"
    }
   ],
   "source": [
    "grouped_pink_customer_base.head()"
   ]
  },
  {
   "cell_type": "code",
   "execution_count": 39,
   "metadata": {},
   "outputs": [
    {
     "data": {
      "text/html": [
       "<div>\n",
       "<style scoped>\n",
       "    .dataframe tbody tr th:only-of-type {\n",
       "        vertical-align: middle;\n",
       "    }\n",
       "\n",
       "    .dataframe tbody tr th {\n",
       "        vertical-align: top;\n",
       "    }\n",
       "\n",
       "    .dataframe thead th {\n",
       "        text-align: right;\n",
       "    }\n",
       "</style>\n",
       "<table border=\"1\" class=\"dataframe\">\n",
       "  <thead>\n",
       "    <tr style=\"text-align: right;\">\n",
       "      <th></th>\n",
       "      <th>KM Travelled</th>\n",
       "      <th>Price Charged</th>\n",
       "      <th>Cost of Trip</th>\n",
       "      <th>Month</th>\n",
       "      <th>Year</th>\n",
       "      <th>Income (USD/Month)</th>\n",
       "    </tr>\n",
       "    <tr>\n",
       "      <th>Date of Travel</th>\n",
       "      <th></th>\n",
       "      <th></th>\n",
       "      <th></th>\n",
       "      <th></th>\n",
       "      <th></th>\n",
       "      <th></th>\n",
       "    </tr>\n",
       "  </thead>\n",
       "  <tbody>\n",
       "    <tr>\n",
       "      <th>2016</th>\n",
       "      <td>568212.65</td>\n",
       "      <td>7986269.04</td>\n",
       "      <td>6246386.412</td>\n",
       "      <td>201510</td>\n",
       "      <td>50974560</td>\n",
       "      <td>382372515</td>\n",
       "    </tr>\n",
       "    <tr>\n",
       "      <th>2017</th>\n",
       "      <td>683134.55</td>\n",
       "      <td>9530736.47</td>\n",
       "      <td>7515635.813</td>\n",
       "      <td>237762</td>\n",
       "      <td>60923485</td>\n",
       "      <td>454742817</td>\n",
       "    </tr>\n",
       "    <tr>\n",
       "      <th>2018</th>\n",
       "      <td>659725.91</td>\n",
       "      <td>8811245.82</td>\n",
       "      <td>7258900.784</td>\n",
       "      <td>222846</td>\n",
       "      <td>58967978</td>\n",
       "      <td>438551610</td>\n",
       "    </tr>\n",
       "  </tbody>\n",
       "</table>\n",
       "</div>"
      ],
      "text/plain": [
       "                KM Travelled  Price Charged  Cost of Trip   Month      Year  \\\n",
       "Date of Travel                                                                \n",
       "2016               568212.65     7986269.04   6246386.412  201510  50974560   \n",
       "2017               683134.55     9530736.47   7515635.813  237762  60923485   \n",
       "2018               659725.91     8811245.82   7258900.784  222846  58967978   \n",
       "\n",
       "                Income (USD/Month)  \n",
       "Date of Travel                      \n",
       "2016                     382372515  \n",
       "2017                     454742817  \n",
       "2018                     438551610  "
      ]
     },
     "execution_count": 39,
     "metadata": {},
     "output_type": "execute_result"
    }
   ],
   "source": [
    "grouped_pink_customer_base.drop([\"Transaction ID\", \"Customer ID\", \"Age\"], axis=1)"
   ]
  },
  {
   "cell_type": "markdown",
   "metadata": {},
   "source": [
    "### 2017"
   ]
  },
  {
   "cell_type": "code",
   "execution_count": 40,
   "metadata": {},
   "outputs": [
    {
     "name": "stdout",
     "output_type": "stream",
     "text": [
      "The Revenue Growth recorded in 2017 for Pink is 1,670,150.31\n",
      "The % Revenue Growth recorded in 2017 for Pink is 21.12%\n"
     ]
    }
   ],
   "source": [
    "Revenue_Growth_2017_pink = (9578629.54 - 7908479.23)\n",
    "Percentage_Revenue_Growth_2017_pink = (9578629.54 - 7908479.23) / 7908479.23\n",
    "print(\"The Revenue Growth recorded in 2017 for Pink is \" + \"{:,}\".format(round(Revenue_Growth_2017_pink, 2)))\n",
    "print(f\"The % Revenue Growth recorded in 2017 for Pink is {round(Percentage_Revenue_Growth_2017_pink * 100, 2)}%\")"
   ]
  },
  {
   "cell_type": "markdown",
   "metadata": {},
   "source": [
    "### 2018"
   ]
  },
  {
   "cell_type": "code",
   "execution_count": 41,
   "metadata": {},
   "outputs": [
    {
     "name": "stdout",
     "output_type": "stream",
     "text": [
      "The Revenue Growth recorded in 2018 for Pink is -737,486.98\n",
      "The % Revenue Growth recorded in 2018 for Pink is -7.7%\n"
     ]
    }
   ],
   "source": [
    "Revenue_Growth_2018_pink = (8841142.56 - 9578629.54)\n",
    "Percentage_Revenue_Growth_2018_pink = (8841142.56 - 9578629.54) / 9578629.54\n",
    "print(\"The Revenue Growth recorded in 2018 for Pink is \" + \"{:,}\".format(round(Revenue_Growth_2018_pink, 2)))\n",
    "print(f\"The % Revenue Growth recorded in 2018 for Pink is {round(Percentage_Revenue_Growth_2018_pink * 100, 2)}%\")"
   ]
  },
  {
   "cell_type": "code",
   "execution_count": null,
   "metadata": {},
   "outputs": [],
   "source": []
  },
  {
   "cell_type": "markdown",
   "metadata": {},
   "source": [
    "## Yellow"
   ]
  },
  {
   "cell_type": "code",
   "execution_count": 42,
   "metadata": {},
   "outputs": [
    {
     "data": {
      "text/html": [
       "<div>\n",
       "<style scoped>\n",
       "    .dataframe tbody tr th:only-of-type {\n",
       "        vertical-align: middle;\n",
       "    }\n",
       "\n",
       "    .dataframe tbody tr th {\n",
       "        vertical-align: top;\n",
       "    }\n",
       "\n",
       "    .dataframe thead th {\n",
       "        text-align: right;\n",
       "    }\n",
       "</style>\n",
       "<table border=\"1\" class=\"dataframe\">\n",
       "  <thead>\n",
       "    <tr style=\"text-align: right;\">\n",
       "      <th></th>\n",
       "      <th>Transaction ID</th>\n",
       "      <th>Date of Travel</th>\n",
       "      <th>Company</th>\n",
       "      <th>City</th>\n",
       "      <th>KM Travelled</th>\n",
       "      <th>Price Charged</th>\n",
       "      <th>Cost of Trip</th>\n",
       "      <th>Month</th>\n",
       "      <th>Year</th>\n",
       "      <th>Customer ID</th>\n",
       "      <th>Gender</th>\n",
       "      <th>Age</th>\n",
       "      <th>Income (USD/Month)</th>\n",
       "      <th>Payment_Mode</th>\n",
       "    </tr>\n",
       "  </thead>\n",
       "  <tbody>\n",
       "    <tr>\n",
       "      <th>0</th>\n",
       "      <td>10000384</td>\n",
       "      <td>2016-01-01</td>\n",
       "      <td>Yellow Cab</td>\n",
       "      <td>ATLANTA GA</td>\n",
       "      <td>33.93</td>\n",
       "      <td>1341.17</td>\n",
       "      <td>464.1624</td>\n",
       "      <td>1</td>\n",
       "      <td>2016</td>\n",
       "      <td>27602</td>\n",
       "      <td>Male</td>\n",
       "      <td>23</td>\n",
       "      <td>8542</td>\n",
       "      <td>Card</td>\n",
       "    </tr>\n",
       "    <tr>\n",
       "      <th>1</th>\n",
       "      <td>10000385</td>\n",
       "      <td>2016-01-08</td>\n",
       "      <td>Yellow Cab</td>\n",
       "      <td>ATLANTA GA</td>\n",
       "      <td>42.18</td>\n",
       "      <td>1412.06</td>\n",
       "      <td>516.2832</td>\n",
       "      <td>1</td>\n",
       "      <td>2016</td>\n",
       "      <td>27594</td>\n",
       "      <td>Male</td>\n",
       "      <td>28</td>\n",
       "      <td>3901</td>\n",
       "      <td>Cash</td>\n",
       "    </tr>\n",
       "    <tr>\n",
       "      <th>2</th>\n",
       "      <td>10000386</td>\n",
       "      <td>2016-01-02</td>\n",
       "      <td>Yellow Cab</td>\n",
       "      <td>ATLANTA GA</td>\n",
       "      <td>10.60</td>\n",
       "      <td>364.62</td>\n",
       "      <td>132.2880</td>\n",
       "      <td>1</td>\n",
       "      <td>2016</td>\n",
       "      <td>27884</td>\n",
       "      <td>Male</td>\n",
       "      <td>32</td>\n",
       "      <td>13505</td>\n",
       "      <td>Cash</td>\n",
       "    </tr>\n",
       "    <tr>\n",
       "      <th>3</th>\n",
       "      <td>10000387</td>\n",
       "      <td>2016-01-05</td>\n",
       "      <td>Yellow Cab</td>\n",
       "      <td>ATLANTA GA</td>\n",
       "      <td>26.75</td>\n",
       "      <td>838.00</td>\n",
       "      <td>333.8400</td>\n",
       "      <td>1</td>\n",
       "      <td>2016</td>\n",
       "      <td>28533</td>\n",
       "      <td>Male</td>\n",
       "      <td>39</td>\n",
       "      <td>28386</td>\n",
       "      <td>Cash</td>\n",
       "    </tr>\n",
       "    <tr>\n",
       "      <th>4</th>\n",
       "      <td>10000388</td>\n",
       "      <td>2016-01-06</td>\n",
       "      <td>Yellow Cab</td>\n",
       "      <td>ATLANTA GA</td>\n",
       "      <td>46.02</td>\n",
       "      <td>1540.61</td>\n",
       "      <td>596.4192</td>\n",
       "      <td>1</td>\n",
       "      <td>2016</td>\n",
       "      <td>29039</td>\n",
       "      <td>Male</td>\n",
       "      <td>35</td>\n",
       "      <td>17761</td>\n",
       "      <td>Card</td>\n",
       "    </tr>\n",
       "  </tbody>\n",
       "</table>\n",
       "</div>"
      ],
      "text/plain": [
       "   Transaction ID Date of Travel     Company        City  KM Travelled  \\\n",
       "0        10000384     2016-01-01  Yellow Cab  ATLANTA GA         33.93   \n",
       "1        10000385     2016-01-08  Yellow Cab  ATLANTA GA         42.18   \n",
       "2        10000386     2016-01-02  Yellow Cab  ATLANTA GA         10.60   \n",
       "3        10000387     2016-01-05  Yellow Cab  ATLANTA GA         26.75   \n",
       "4        10000388     2016-01-06  Yellow Cab  ATLANTA GA         46.02   \n",
       "\n",
       "   Price Charged  Cost of Trip  Month  Year  Customer ID Gender  Age  \\\n",
       "0        1341.17      464.1624      1  2016        27602   Male   23   \n",
       "1        1412.06      516.2832      1  2016        27594   Male   28   \n",
       "2         364.62      132.2880      1  2016        27884   Male   32   \n",
       "3         838.00      333.8400      1  2016        28533   Male   39   \n",
       "4        1540.61      596.4192      1  2016        29039   Male   35   \n",
       "\n",
       "   Income (USD/Month) Payment_Mode  \n",
       "0                8542         Card  \n",
       "1                3901         Cash  \n",
       "2               13505         Cash  \n",
       "3               28386         Cash  \n",
       "4               17761         Card  "
      ]
     },
     "execution_count": 42,
     "metadata": {},
     "output_type": "execute_result"
    }
   ],
   "source": [
    "yellow_customer_base.head()"
   ]
  },
  {
   "cell_type": "code",
   "execution_count": 43,
   "metadata": {},
   "outputs": [],
   "source": [
    "grouped_yellow_customer_base = yellow_customer_base.groupby(yellow_customer_base[\"Date of Travel\"].dt.year).sum()"
   ]
  },
  {
   "cell_type": "code",
   "execution_count": 44,
   "metadata": {},
   "outputs": [
    {
     "data": {
      "text/html": [
       "<div>\n",
       "<style scoped>\n",
       "    .dataframe tbody tr th:only-of-type {\n",
       "        vertical-align: middle;\n",
       "    }\n",
       "\n",
       "    .dataframe tbody tr th {\n",
       "        vertical-align: top;\n",
       "    }\n",
       "\n",
       "    .dataframe thead th {\n",
       "        text-align: right;\n",
       "    }\n",
       "</style>\n",
       "<table border=\"1\" class=\"dataframe\">\n",
       "  <thead>\n",
       "    <tr style=\"text-align: right;\">\n",
       "      <th></th>\n",
       "      <th>Transaction ID</th>\n",
       "      <th>KM Travelled</th>\n",
       "      <th>Price Charged</th>\n",
       "      <th>Cost of Trip</th>\n",
       "      <th>Month</th>\n",
       "      <th>Year</th>\n",
       "      <th>Customer ID</th>\n",
       "      <th>Age</th>\n",
       "      <th>Income (USD/Month)</th>\n",
       "    </tr>\n",
       "    <tr>\n",
       "      <th>Date of Travel</th>\n",
       "      <th></th>\n",
       "      <th></th>\n",
       "      <th></th>\n",
       "      <th></th>\n",
       "      <th></th>\n",
       "      <th></th>\n",
       "      <th></th>\n",
       "      <th></th>\n",
       "      <th></th>\n",
       "    </tr>\n",
       "  </thead>\n",
       "  <tbody>\n",
       "    <tr>\n",
       "      <th>2016</th>\n",
       "      <td>834892749969</td>\n",
       "      <td>1875626.960</td>\n",
       "      <td>38833629.820</td>\n",
       "      <td>24759743.341</td>\n",
       "      <td>625503</td>\n",
       "      <td>167200992</td>\n",
       "      <td>1623457163</td>\n",
       "      <td>2931355</td>\n",
       "      <td>1247291304</td>\n",
       "    </tr>\n",
       "    <tr>\n",
       "      <th>2017</th>\n",
       "      <td>998189046355</td>\n",
       "      <td>2205384.190</td>\n",
       "      <td>45582913.860</td>\n",
       "      <td>29118646.721</td>\n",
       "      <td>727212</td>\n",
       "      <td>197179903</td>\n",
       "      <td>1888043158</td>\n",
       "      <td>3454245</td>\n",
       "      <td>1472717796</td>\n",
       "    </tr>\n",
       "    <tr>\n",
       "      <th>2018</th>\n",
       "      <td>974097977027</td>\n",
       "      <td>2118406.320</td>\n",
       "      <td>41437343.510</td>\n",
       "      <td>27955123.957</td>\n",
       "      <td>683929</td>\n",
       "      <td>189661730</td>\n",
       "      <td>1825230608</td>\n",
       "      <td>3321932</td>\n",
       "      <td>1412750531</td>\n",
       "    </tr>\n",
       "  </tbody>\n",
       "</table>\n",
       "</div>"
      ],
      "text/plain": [
       "                Transaction ID  KM Travelled  Price Charged  Cost of Trip  \\\n",
       "Date of Travel                                                              \n",
       "2016              834892749969   1875626.960   38833629.820  24759743.341   \n",
       "2017              998189046355   2205384.190   45582913.860  29118646.721   \n",
       "2018              974097977027   2118406.320   41437343.510  27955123.957   \n",
       "\n",
       "                 Month       Year  Customer ID      Age  Income (USD/Month)  \n",
       "Date of Travel                                                               \n",
       "2016            625503  167200992   1623457163  2931355          1247291304  \n",
       "2017            727212  197179903   1888043158  3454245          1472717796  \n",
       "2018            683929  189661730   1825230608  3321932          1412750531  "
      ]
     },
     "execution_count": 44,
     "metadata": {},
     "output_type": "execute_result"
    }
   ],
   "source": [
    "# To remove exponentials from dataset\n",
    "pd.set_option('display.float_format', lambda x: '%.3f' % x)\n",
    "grouped_yellow_customer_base.head()"
   ]
  },
  {
   "cell_type": "code",
   "execution_count": 45,
   "metadata": {},
   "outputs": [
    {
     "data": {
      "text/html": [
       "<div>\n",
       "<style scoped>\n",
       "    .dataframe tbody tr th:only-of-type {\n",
       "        vertical-align: middle;\n",
       "    }\n",
       "\n",
       "    .dataframe tbody tr th {\n",
       "        vertical-align: top;\n",
       "    }\n",
       "\n",
       "    .dataframe thead th {\n",
       "        text-align: right;\n",
       "    }\n",
       "</style>\n",
       "<table border=\"1\" class=\"dataframe\">\n",
       "  <thead>\n",
       "    <tr style=\"text-align: right;\">\n",
       "      <th></th>\n",
       "      <th>KM Travelled</th>\n",
       "      <th>Price Charged</th>\n",
       "      <th>Cost of Trip</th>\n",
       "      <th>Month</th>\n",
       "      <th>Year</th>\n",
       "      <th>Income (USD/Month)</th>\n",
       "    </tr>\n",
       "    <tr>\n",
       "      <th>Date of Travel</th>\n",
       "      <th></th>\n",
       "      <th></th>\n",
       "      <th></th>\n",
       "      <th></th>\n",
       "      <th></th>\n",
       "      <th></th>\n",
       "    </tr>\n",
       "  </thead>\n",
       "  <tbody>\n",
       "    <tr>\n",
       "      <th>2016</th>\n",
       "      <td>1875626.960</td>\n",
       "      <td>38833629.820</td>\n",
       "      <td>24759743.341</td>\n",
       "      <td>625503</td>\n",
       "      <td>167200992</td>\n",
       "      <td>1247291304</td>\n",
       "    </tr>\n",
       "    <tr>\n",
       "      <th>2017</th>\n",
       "      <td>2205384.190</td>\n",
       "      <td>45582913.860</td>\n",
       "      <td>29118646.721</td>\n",
       "      <td>727212</td>\n",
       "      <td>197179903</td>\n",
       "      <td>1472717796</td>\n",
       "    </tr>\n",
       "    <tr>\n",
       "      <th>2018</th>\n",
       "      <td>2118406.320</td>\n",
       "      <td>41437343.510</td>\n",
       "      <td>27955123.957</td>\n",
       "      <td>683929</td>\n",
       "      <td>189661730</td>\n",
       "      <td>1412750531</td>\n",
       "    </tr>\n",
       "  </tbody>\n",
       "</table>\n",
       "</div>"
      ],
      "text/plain": [
       "                KM Travelled  Price Charged  Cost of Trip   Month       Year  \\\n",
       "Date of Travel                                                                 \n",
       "2016             1875626.960   38833629.820  24759743.341  625503  167200992   \n",
       "2017             2205384.190   45582913.860  29118646.721  727212  197179903   \n",
       "2018             2118406.320   41437343.510  27955123.957  683929  189661730   \n",
       "\n",
       "                Income (USD/Month)  \n",
       "Date of Travel                      \n",
       "2016                    1247291304  \n",
       "2017                    1472717796  \n",
       "2018                    1412750531  "
      ]
     },
     "execution_count": 45,
     "metadata": {},
     "output_type": "execute_result"
    }
   ],
   "source": [
    "grouped_yellow_customer_base.drop([\"Transaction ID\", \"Customer ID\", \"Age\"], axis=1)"
   ]
  },
  {
   "cell_type": "markdown",
   "metadata": {},
   "source": [
    "### 2017"
   ]
  },
  {
   "cell_type": "code",
   "execution_count": 46,
   "metadata": {},
   "outputs": [
    {
     "name": "stdout",
     "output_type": "stream",
     "text": [
      "The Revenue Growth recorded in 2017 for Yellow is 7,337,776.86\n",
      "The % Revenue Growth recorded in 2017 for Yellow is 0.19%\n"
     ]
    }
   ],
   "source": [
    "Revenue_Growth_2017_yellow = (45818910.040 - 38481133.180)\n",
    "Percentage_Revenue_Growth_2017_yellow = (45818910.040 - 38481133.180) / 38481133.180\n",
    "print(\"The Revenue Growth recorded in 2017 for Yellow is \" + \"{:,}\".format(round(Revenue_Growth_2017_yellow, 2)))\n",
    "print(f\"The % Revenue Growth recorded in 2017 for Yellow is {round(Percentage_Revenue_Growth_2017_yellow, 2)}%\")"
   ]
  },
  {
   "cell_type": "markdown",
   "metadata": {},
   "source": [
    "### 2018"
   ]
  },
  {
   "cell_type": "code",
   "execution_count": 47,
   "metadata": {},
   "outputs": [
    {
     "name": "stdout",
     "output_type": "stream",
     "text": [
      "The Revenue Growth recorded in 2018 for Yellow is -4,265,066.07\n",
      "The % Revenue Growth recorded in 2018 for Yellow is -0.09%\n"
     ]
    }
   ],
   "source": [
    "Revenue_Growth_2018_yellow = (41553843.970 - 45818910.040)\n",
    "Percentage_Revenue_Growth_2018_yellow = (41553843.970 - 45818910.040) / 45818910.040\n",
    "print(\"The Revenue Growth recorded in 2018 for Yellow is \" + \"{:,}\".format(round(Revenue_Growth_2018_yellow, 2)))\n",
    "print(f\"The % Revenue Growth recorded in 2018 for Yellow is {round(Percentage_Revenue_Growth_2018_yellow, 2)}%\")"
   ]
  },
  {
   "cell_type": "markdown",
   "metadata": {},
   "source": [
    "## Tabular Representation of Yearly Revenue Increase For Both Companies"
   ]
  },
  {
   "cell_type": "markdown",
   "metadata": {},
   "source": [
    "### Revenue Increase"
   ]
  },
  {
   "cell_type": "code",
   "execution_count": 48,
   "metadata": {},
   "outputs": [
    {
     "data": {
      "text/html": [
       "<div>\n",
       "<style scoped>\n",
       "    .dataframe tbody tr th:only-of-type {\n",
       "        vertical-align: middle;\n",
       "    }\n",
       "\n",
       "    .dataframe tbody tr th {\n",
       "        vertical-align: top;\n",
       "    }\n",
       "\n",
       "    .dataframe thead th {\n",
       "        text-align: right;\n",
       "    }\n",
       "</style>\n",
       "<table border=\"1\" class=\"dataframe\">\n",
       "  <thead>\n",
       "    <tr style=\"text-align: right;\">\n",
       "      <th></th>\n",
       "      <th>2017</th>\n",
       "      <th>2018</th>\n",
       "      <th>% Increase 2017</th>\n",
       "      <th>% Increase 2018</th>\n",
       "    </tr>\n",
       "  </thead>\n",
       "  <tbody>\n",
       "    <tr>\n",
       "      <th>Pink</th>\n",
       "      <td>1670150.31</td>\n",
       "      <td>-737486.98</td>\n",
       "      <td>21.12</td>\n",
       "      <td>-7.70</td>\n",
       "    </tr>\n",
       "    <tr>\n",
       "      <th>Yellow</th>\n",
       "      <td>7337776.86</td>\n",
       "      <td>-4265066.07</td>\n",
       "      <td>19.07</td>\n",
       "      <td>-9.31</td>\n",
       "    </tr>\n",
       "  </tbody>\n",
       "</table>\n",
       "</div>"
      ],
      "text/plain": [
       "             2017        2018  % Increase 2017  % Increase 2018\n",
       "Pink   1670150.31  -737486.98            21.12            -7.70\n",
       "Yellow 7337776.86 -4265066.07            19.07            -9.31"
      ]
     },
     "execution_count": 48,
     "metadata": {},
     "output_type": "execute_result"
    }
   ],
   "source": [
    "pd.set_option('display.float_format', lambda x: '%.2f' % x)\n",
    "\n",
    "RevenueIncrease = pd.DataFrame({2017: [Revenue_Growth_2017_pink, Revenue_Growth_2017_yellow], \n",
    "              2018: [Revenue_Growth_2018_pink, Revenue_Growth_2018_yellow],\n",
    "             \"% Increase 2017\" : [round(Percentage_Revenue_Growth_2017_pink * 100, 2), round(Percentage_Revenue_Growth_2017_yellow * 100, 2)],\n",
    "             \"% Increase 2018\" : [round(Percentage_Revenue_Growth_2018_pink * 100, 2), round(Percentage_Revenue_Growth_2018_yellow * 100, 2)]},\n",
    "             index=[\"Pink\", \"Yellow\"])\n",
    "\n",
    "RevenueIncrease"
   ]
  },
  {
   "cell_type": "code",
   "execution_count": 49,
   "metadata": {},
   "outputs": [
    {
     "name": "stderr",
     "output_type": "stream",
     "text": [
      "No handles with labels found to put in legend.\n"
     ]
    },
    {
     "data": {
      "text/plain": [
       "<matplotlib.legend.Legend at 0x25f05e8c3d0>"
      ]
     },
     "execution_count": 49,
     "metadata": {},
     "output_type": "execute_result"
    },
    {
     "data": {
      "image/png": "[encoded data removed]",
      "text/plain": [
       "<Figure size 432x288 with 1 Axes>"
      ]
     },
     "metadata": {},
     "output_type": "display_data"
    }
   ],
   "source": [
    "# 2017 Revenue Increase\n",
    "sns.barplot(x=RevenueIncrease.index, y=RevenueIncrease[2017], palette=[\"#04007a\", \"#5e7d4f\"])\n",
    "plt.xlabel('Company',fontsize=14)\n",
    "plt.title('Revenue Increase for 2017', fontsize=20)\n",
    "plt.legend()"
   ]
  },
  {
   "cell_type": "code",
   "execution_count": 50,
   "metadata": {},
   "outputs": [
    {
     "name": "stderr",
     "output_type": "stream",
     "text": [
      "No handles with labels found to put in legend.\n"
     ]
    },
    {
     "data": {
      "text/plain": [
       "<matplotlib.legend.Legend at 0x25f05ecefa0>"
      ]
     },
     "execution_count": 50,
     "metadata": {},
     "output_type": "execute_result"
    },
    {
     "data": {
      "image/png": "[encoded data removed]",
      "text/plain": [
       "<Figure size 432x288 with 1 Axes>"
      ]
     },
     "metadata": {},
     "output_type": "display_data"
    }
   ],
   "source": [
    "# 2017 % Revenue Increase\n",
    "sns.barplot(x=RevenueIncrease.index, y=RevenueIncrease[2017], palette=[\"#04007a\", \"#5e7d4f\"])\n",
    "plt.xlabel('Company',fontsize=14)\n",
    "plt.title('% Revenue Increase for 2017', fontsize=20)\n",
    "plt.legend()"
   ]
  },
  {
   "cell_type": "code",
   "execution_count": 51,
   "metadata": {},
   "outputs": [
    {
     "name": "stderr",
     "output_type": "stream",
     "text": [
      "No handles with labels found to put in legend.\n"
     ]
    },
    {
     "data": {
      "text/plain": [
       "<matplotlib.legend.Legend at 0x25f05f5a340>"
      ]
     },
     "execution_count": 51,
     "metadata": {},
     "output_type": "execute_result"
    },
    {
     "data": {
      "image/png": "[encoded data removed]",
      "text/plain": [
       "<Figure size 432x288 with 1 Axes>"
      ]
     },
     "metadata": {},
     "output_type": "display_data"
    }
   ],
   "source": [
    "# 2018 Revenue Increase\n",
    "sns.barplot(x=RevenueIncrease.index, y=RevenueIncrease[2018], palette=[\"#04007a\", \"#5e7d4f\"])\n",
    "plt.xlabel('Company',fontsize=14)\n",
    "plt.title('Revenue Increase for 2018', fontsize=20)\n",
    "plt.ylim([-6000000, 1000000])\n",
    "plt.legend()"
   ]
  },
  {
   "cell_type": "code",
   "execution_count": 52,
   "metadata": {},
   "outputs": [
    {
     "name": "stderr",
     "output_type": "stream",
     "text": [
      "No handles with labels found to put in legend.\n"
     ]
    },
    {
     "data": {
      "text/plain": [
       "<matplotlib.legend.Legend at 0x25f032d9100>"
      ]
     },
     "execution_count": 52,
     "metadata": {},
     "output_type": "execute_result"
    },
    {
     "data": {
      "image/png": "[encoded data removed]",
      "text/plain": [
       "<Figure size 432x288 with 1 Axes>"
      ]
     },
     "metadata": {},
     "output_type": "display_data"
    }
   ],
   "source": [
    "# 2018 % Revenue Increase\n",
    "sns.barplot(x=RevenueIncrease.index, y=RevenueIncrease[2018], palette=[\"#04007a\", \"#5e7d4f\"])\n",
    "plt.xlabel('Company',fontsize=14)\n",
    "plt.title('% Revenue Increase for 2018', fontsize=20)\n",
    "plt.ylim([-6000000, 1000000])\n",
    "plt.legend()"
   ]
  },
  {
   "cell_type": "code",
   "execution_count": 53,
   "metadata": {},
   "outputs": [
    {
     "data": {
      "text/html": [
       "<div>\n",
       "<style scoped>\n",
       "    .dataframe tbody tr th:only-of-type {\n",
       "        vertical-align: middle;\n",
       "    }\n",
       "\n",
       "    .dataframe tbody tr th {\n",
       "        vertical-align: top;\n",
       "    }\n",
       "\n",
       "    .dataframe thead th {\n",
       "        text-align: right;\n",
       "    }\n",
       "</style>\n",
       "<table border=\"1\" class=\"dataframe\">\n",
       "  <thead>\n",
       "    <tr style=\"text-align: right;\">\n",
       "      <th></th>\n",
       "      <th>2017</th>\n",
       "      <th>2018</th>\n",
       "      <th>% Increase 2017</th>\n",
       "      <th>% Increase 2018</th>\n",
       "    </tr>\n",
       "  </thead>\n",
       "  <tbody>\n",
       "    <tr>\n",
       "      <th>Pink</th>\n",
       "      <td>1670150.31</td>\n",
       "      <td>-737486.98</td>\n",
       "      <td>21.12</td>\n",
       "      <td>-7.70</td>\n",
       "    </tr>\n",
       "    <tr>\n",
       "      <th>Yellow</th>\n",
       "      <td>7337776.86</td>\n",
       "      <td>-4265066.07</td>\n",
       "      <td>19.07</td>\n",
       "      <td>-9.31</td>\n",
       "    </tr>\n",
       "  </tbody>\n",
       "</table>\n",
       "</div>"
      ],
      "text/plain": [
       "             2017        2018  % Increase 2017  % Increase 2018\n",
       "Pink   1670150.31  -737486.98            21.12            -7.70\n",
       "Yellow 7337776.86 -4265066.07            19.07            -9.31"
      ]
     },
     "execution_count": 53,
     "metadata": {},
     "output_type": "execute_result"
    }
   ],
   "source": [
    "RevenueIncrease"
   ]
  },
  {
   "cell_type": "markdown",
   "metadata": {},
   "source": [
    "From the Analysis above, Pinks revenue in 2017 increased 21% and they sustained 7.7% loss in 2018,\n",
    "while Yellows revenue increased 19.07% and they sustained 9.31% loss in 2018\n",
    "\n",
    "In terms of Revenue Increase, <strong>Pink Cab</strong> company is best to invest in."
   ]
  },
  {
   "cell_type": "code",
   "execution_count": null,
   "metadata": {},
   "outputs": [],
   "source": []
  },
  {
   "cell_type": "markdown",
   "metadata": {},
   "source": [
    "# 4. Customer Retention Rate\n",
    "\n",
    "Formula: ((CE - CN) / CS) x 100\n",
    "\n",
    "- CE = number of customers at the end of the period\n",
    "- CN = number of new customers during the period\n",
    "- CS = number of customers when the measured period began\n",
    "\n",
    "<!-- Imagine you’ve been selling a SaaS software product, billed monthly, for a few years. You want to determine your customer retention rate for the previous calendar year. After reviewing your customer data, you find:\n",
    "\n",
    "You had 521 existing customers as of January 1.\n",
    "You captured 66 new customers between January 1 and December 31.\n",
    "As of December 31, you had 490 customers.\n",
    "Plugging these numbers into the formula above, you derive the following number:\n",
    "\n",
    "490 – 66 / 521 = 81.3%\n",
    " -->\n",
    "\n",
    "This will be used to measure customer experience"
   ]
  },
  {
   "cell_type": "code",
   "execution_count": 54,
   "metadata": {},
   "outputs": [],
   "source": [
    "# Function to calculate CS, CN and CE\n",
    "def RetentionRate(customer_base, company_name):\n",
    "    ### Calculate CS\n",
    "    customer_base = customer_base\n",
    "    \n",
    "    # Calculate CS, get all the unique customers in 2016\n",
    "    customer_base_2016 = customer_base.loc[customer_base[\"Date of Travel\"].dt.year == 2016]\n",
    "    customer_base_2016.head()\n",
    "\n",
    "    # Using .loc[] to drop all columns except Customer ID\n",
    "    customer_base_CustomerID_2016 = customer_base_2016.loc[:, customer_base_2016.columns == \"Customer ID\"]\n",
    "    customer_base_CustomerID_2016.reset_index(drop=True)\n",
    "    customer_base_CustomerID_2016.head()\n",
    "\n",
    "    list_of_all_customerID_2016 = customer_base_2016[\"Customer ID\"].unique()\n",
    "    list_of_all_customerID_2016\n",
    "\n",
    "    list_of_all_customerID_2016.shape\n",
    "\n",
    "    CS = len(list_of_all_customerID_2016)\n",
    "\n",
    "    CS\n",
    "\n",
    "    ### Calculate CN\n",
    "\n",
    "    customer_base.head()\n",
    "\n",
    "    # Calculate CN, This is the number of new customers between january 1st 2017, and December 31st 2018\n",
    "    customer_base_2017_n_2018 = customer_base.loc[(customer_base[\"Date of Travel\"].dt.year == 2017) | (customer_base[\"Date of Travel\"].dt.year == 2018)]\n",
    "    customer_base_2017_n_2018.head()\n",
    "\n",
    "    customer_base_2017_n_2018[\"Date of Travel\"].dt.year.value_counts()\n",
    "\n",
    "    # Using .loc[] to drop all columns except Customer ID\n",
    "    customer_base_2017_n_2018 = customer_base_2017_n_2018.loc[:, customer_base_2017_n_2018.columns == \"Customer ID\"]\n",
    "    customer_base_2017_n_2018.reset_index(drop=True)\n",
    "    customer_base_2017_n_2018.head()\n",
    "\n",
    "    list_of_all_customerID_2017_n_2018 = customer_base_2017_n_2018[\"Customer ID\"].unique()\n",
    "\n",
    "    list_of_all_customerID_2017_n_2018\n",
    "\n",
    "    len(list_of_all_customerID_2017_n_2018)\n",
    "\n",
    "    # To get the number of new customers, get all the customerID in the new list, that is not in customer_base_2016\n",
    "    new_customers = []\n",
    "    for item in list_of_all_customerID_2017_n_2018:\n",
    "        if item not in list_of_all_customerID_2016:\n",
    "            new_customers.append(item)\n",
    "        else: pass\n",
    "\n",
    "    CN = len(new_customers)\n",
    "    CN\n",
    "\n",
    "    ### Calculate CE\n",
    "    \n",
    "    # Calculate CE, This is the number of customers at the end of the period\n",
    "\n",
    "    # Calculate CE, get all the unique customers in 2018\n",
    "    customer_base_2018 = customer_base.loc[customer_base[\"Date of Travel\"].dt.year == 2018]\n",
    "    customer_base_2018.head()\n",
    "\n",
    "    customer_base_2018[\"Date of Travel\"].dt.year.value_counts()\n",
    "\n",
    "    # Using .loc[] to drop all columns except Customer ID\n",
    "    customer_base_2018 = customer_base_2017_n_2018.loc[:, customer_base_2017_n_2018.columns == \"Customer ID\"]\n",
    "    customer_base_2018.reset_index(drop=True)\n",
    "    customer_base_2018.head()\n",
    "\n",
    "    list_of_all_customerID_2018 = customer_base_2018[\"Customer ID\"].unique()\n",
    "\n",
    "    list_of_all_customerID_2018\n",
    "\n",
    "    CE = len(list_of_all_customerID_2018)\n",
    "    CE\n",
    "\n",
    "    # Formula ((CE - CN) / CS) x 100\n",
    "    CRR = ((CE - CN) / CS) * 100\n",
    "\n",
    "    # print(f\"({CE} - {CN} / {CS}) * 100 = {CRR}\")\n",
    "    print(f\"The Customer Rentention rate of {company_name} between 2016 and 2018 is: {round(CRR, 2)}%\")\n",
    "    return company_name, round(CRR, 2)"
   ]
  },
  {
   "cell_type": "code",
   "execution_count": 55,
   "metadata": {},
   "outputs": [
    {
     "name": "stdout",
     "output_type": "stream",
     "text": [
      "The Customer Rentention rate of Pink between 2016 and 2018 is: 69.88%\n"
     ]
    }
   ],
   "source": [
    "# RetentionRate(pink_customer_base, \"Pink\")\n",
    "pink_retention = RetentionRate(pink_customer_base, \"Pink\")\n",
    "pink_retention_rate = pink_retention[1]"
   ]
  },
  {
   "cell_type": "code",
   "execution_count": 56,
   "metadata": {},
   "outputs": [
    {
     "name": "stdout",
     "output_type": "stream",
     "text": [
      "The Customer Rentention rate of Pink between 2016 and 2018 is: 83.3%\n"
     ]
    }
   ],
   "source": [
    "# RetentionRate(yellow_customer_base, \"Yellow\")\n",
    "yellow_retention = RetentionRate(yellow_customer_base, \"Pink\")\n",
    "yellow_retention_rate = yellow_retention[1]"
   ]
  },
  {
   "cell_type": "code",
   "execution_count": 57,
   "metadata": {},
   "outputs": [
    {
     "data": {
      "image/png": "[encoded data removed]",
      "text/plain": [
       "<Figure size 432x288 with 1 Axes>"
      ]
     },
     "metadata": {},
     "output_type": "display_data"
    }
   ],
   "source": [
    "# Plot a Pie chart\n",
    "data = [pink_retention_rate, yellow_retention_rate,]\n",
    "labels = ['Pink', 'Yellow']\n",
    "\n",
    "#create pie chart\n",
    "plt.pie(data, labels = labels, colors = [\"#ab7e63\", \"#366096\"], radius=2, autopct='%.0f%%')\n",
    "# plt.title(\"Retention Rate\", fontsize = 20)\n",
    "plt.show()"
   ]
  },
  {
   "cell_type": "markdown",
   "metadata": {},
   "source": [
    "### Conclusion\n",
    "\n",
    "- Using Customer Retention Rate as an evaluation metric for Customer Satisfaction, <strong>Yellow Cab</strong> services are more satisfactory with a rentention rate of 83.3% in comparison to Pink with 69.88%"
   ]
  },
  {
   "cell_type": "code",
   "execution_count": null,
   "metadata": {},
   "outputs": [],
   "source": []
  },
  {
   "cell_type": "markdown",
   "metadata": {},
   "source": [
    "# Evaluate Payment Mode"
   ]
  },
  {
   "cell_type": "code",
   "execution_count": 58,
   "metadata": {},
   "outputs": [],
   "source": [
    "# Create Master dataset\n",
    "cab_data = pd.read_csv(\"Cab_Data.csv\")\n",
    "City_data = pd.read_csv(\"City.csv\")\n",
    "Customer_data = pd.read_csv(\"Customer_ID.csv\")\n",
    "Transaction_data = pd.read_csv(\"Transaction_ID.csv\")"
   ]
  },
  {
   "cell_type": "code",
   "execution_count": 59,
   "metadata": {},
   "outputs": [
    {
     "data": {
      "text/html": [
       "<div>\n",
       "<style scoped>\n",
       "    .dataframe tbody tr th:only-of-type {\n",
       "        vertical-align: middle;\n",
       "    }\n",
       "\n",
       "    .dataframe tbody tr th {\n",
       "        vertical-align: top;\n",
       "    }\n",
       "\n",
       "    .dataframe thead th {\n",
       "        text-align: right;\n",
       "    }\n",
       "</style>\n",
       "<table border=\"1\" class=\"dataframe\">\n",
       "  <thead>\n",
       "    <tr style=\"text-align: right;\">\n",
       "      <th></th>\n",
       "      <th>Transaction ID</th>\n",
       "      <th>Customer ID</th>\n",
       "      <th>Payment_Mode</th>\n",
       "    </tr>\n",
       "  </thead>\n",
       "  <tbody>\n",
       "    <tr>\n",
       "      <th>0</th>\n",
       "      <td>10000011</td>\n",
       "      <td>29290</td>\n",
       "      <td>Card</td>\n",
       "    </tr>\n",
       "    <tr>\n",
       "      <th>1</th>\n",
       "      <td>10000012</td>\n",
       "      <td>27703</td>\n",
       "      <td>Card</td>\n",
       "    </tr>\n",
       "    <tr>\n",
       "      <th>2</th>\n",
       "      <td>10000013</td>\n",
       "      <td>28712</td>\n",
       "      <td>Cash</td>\n",
       "    </tr>\n",
       "    <tr>\n",
       "      <th>3</th>\n",
       "      <td>10000014</td>\n",
       "      <td>28020</td>\n",
       "      <td>Cash</td>\n",
       "    </tr>\n",
       "    <tr>\n",
       "      <th>4</th>\n",
       "      <td>10000015</td>\n",
       "      <td>27182</td>\n",
       "      <td>Card</td>\n",
       "    </tr>\n",
       "  </tbody>\n",
       "</table>\n",
       "</div>"
      ],
      "text/plain": [
       "   Transaction ID  Customer ID Payment_Mode\n",
       "0        10000011        29290         Card\n",
       "1        10000012        27703         Card\n",
       "2        10000013        28712         Cash\n",
       "3        10000014        28020         Cash\n",
       "4        10000015        27182         Card"
      ]
     },
     "execution_count": 59,
     "metadata": {},
     "output_type": "execute_result"
    }
   ],
   "source": [
    "cab_data.head()\n",
    "City_data.head()\n",
    "Customer_data.head()\n",
    "Transaction_data.head()"
   ]
  },
  {
   "cell_type": "code",
   "execution_count": 60,
   "metadata": {},
   "outputs": [
    {
     "data": {
      "text/html": [
       "<div>\n",
       "<style scoped>\n",
       "    .dataframe tbody tr th:only-of-type {\n",
       "        vertical-align: middle;\n",
       "    }\n",
       "\n",
       "    .dataframe tbody tr th {\n",
       "        vertical-align: top;\n",
       "    }\n",
       "\n",
       "    .dataframe thead th {\n",
       "        text-align: right;\n",
       "    }\n",
       "</style>\n",
       "<table border=\"1\" class=\"dataframe\">\n",
       "  <thead>\n",
       "    <tr style=\"text-align: right;\">\n",
       "      <th></th>\n",
       "      <th>Transaction ID</th>\n",
       "      <th>Date of Travel</th>\n",
       "      <th>Company</th>\n",
       "      <th>City</th>\n",
       "      <th>KM Travelled</th>\n",
       "      <th>Price Charged</th>\n",
       "      <th>Cost of Trip</th>\n",
       "      <th>Customer ID</th>\n",
       "      <th>Payment_Mode</th>\n",
       "      <th>Gender</th>\n",
       "      <th>Age</th>\n",
       "      <th>Income (USD/Month)</th>\n",
       "      <th>Population</th>\n",
       "      <th>Users</th>\n",
       "    </tr>\n",
       "  </thead>\n",
       "  <tbody>\n",
       "    <tr>\n",
       "      <th>0</th>\n",
       "      <td>10000011</td>\n",
       "      <td>42377</td>\n",
       "      <td>Pink Cab</td>\n",
       "      <td>ATLANTA GA</td>\n",
       "      <td>30.45</td>\n",
       "      <td>370.95</td>\n",
       "      <td>313.63</td>\n",
       "      <td>29290</td>\n",
       "      <td>Card</td>\n",
       "      <td>Male</td>\n",
       "      <td>28</td>\n",
       "      <td>10813</td>\n",
       "      <td>814,885</td>\n",
       "      <td>24,701</td>\n",
       "    </tr>\n",
       "    <tr>\n",
       "      <th>1</th>\n",
       "      <td>10351127</td>\n",
       "      <td>43302</td>\n",
       "      <td>Yellow Cab</td>\n",
       "      <td>ATLANTA GA</td>\n",
       "      <td>26.19</td>\n",
       "      <td>598.70</td>\n",
       "      <td>317.42</td>\n",
       "      <td>29290</td>\n",
       "      <td>Cash</td>\n",
       "      <td>Male</td>\n",
       "      <td>28</td>\n",
       "      <td>10813</td>\n",
       "      <td>814,885</td>\n",
       "      <td>24,701</td>\n",
       "    </tr>\n",
       "    <tr>\n",
       "      <th>2</th>\n",
       "      <td>10412921</td>\n",
       "      <td>43427</td>\n",
       "      <td>Yellow Cab</td>\n",
       "      <td>ATLANTA GA</td>\n",
       "      <td>42.55</td>\n",
       "      <td>792.05</td>\n",
       "      <td>597.40</td>\n",
       "      <td>29290</td>\n",
       "      <td>Card</td>\n",
       "      <td>Male</td>\n",
       "      <td>28</td>\n",
       "      <td>10813</td>\n",
       "      <td>814,885</td>\n",
       "      <td>24,701</td>\n",
       "    </tr>\n",
       "    <tr>\n",
       "      <th>3</th>\n",
       "      <td>10000012</td>\n",
       "      <td>42375</td>\n",
       "      <td>Pink Cab</td>\n",
       "      <td>ATLANTA GA</td>\n",
       "      <td>28.62</td>\n",
       "      <td>358.52</td>\n",
       "      <td>334.85</td>\n",
       "      <td>27703</td>\n",
       "      <td>Card</td>\n",
       "      <td>Male</td>\n",
       "      <td>27</td>\n",
       "      <td>9237</td>\n",
       "      <td>814,885</td>\n",
       "      <td>24,701</td>\n",
       "    </tr>\n",
       "    <tr>\n",
       "      <th>4</th>\n",
       "      <td>10320494</td>\n",
       "      <td>43211</td>\n",
       "      <td>Yellow Cab</td>\n",
       "      <td>ATLANTA GA</td>\n",
       "      <td>36.38</td>\n",
       "      <td>721.10</td>\n",
       "      <td>467.12</td>\n",
       "      <td>27703</td>\n",
       "      <td>Card</td>\n",
       "      <td>Male</td>\n",
       "      <td>27</td>\n",
       "      <td>9237</td>\n",
       "      <td>814,885</td>\n",
       "      <td>24,701</td>\n",
       "    </tr>\n",
       "  </tbody>\n",
       "</table>\n",
       "</div>"
      ],
      "text/plain": [
       "   Transaction ID  Date of Travel     Company        City  KM Travelled  \\\n",
       "0        10000011           42377    Pink Cab  ATLANTA GA         30.45   \n",
       "1        10351127           43302  Yellow Cab  ATLANTA GA         26.19   \n",
       "2        10412921           43427  Yellow Cab  ATLANTA GA         42.55   \n",
       "3        10000012           42375    Pink Cab  ATLANTA GA         28.62   \n",
       "4        10320494           43211  Yellow Cab  ATLANTA GA         36.38   \n",
       "\n",
       "   Price Charged  Cost of Trip  Customer ID Payment_Mode Gender  Age  \\\n",
       "0         370.95        313.63        29290         Card   Male   28   \n",
       "1         598.70        317.42        29290         Cash   Male   28   \n",
       "2         792.05        597.40        29290         Card   Male   28   \n",
       "3         358.52        334.85        27703         Card   Male   27   \n",
       "4         721.10        467.12        27703         Card   Male   27   \n",
       "\n",
       "   Income (USD/Month) Population     Users  \n",
       "0               10813   814,885    24,701   \n",
       "1               10813   814,885    24,701   \n",
       "2               10813   814,885    24,701   \n",
       "3                9237   814,885    24,701   \n",
       "4                9237   814,885    24,701   "
      ]
     },
     "execution_count": 60,
     "metadata": {},
     "output_type": "execute_result"
    }
   ],
   "source": [
    "merge_1 = pd.merge(cab_data, Transaction_data)\n",
    "merge_2 = pd.merge(merge_1, Customer_data, on=\"Customer ID\")\n",
    "merge_3 = pd.merge(merge_2, City_data, on=\"City\" )\n",
    "master_data = merge_3\n",
    "master_data.head()"
   ]
  },
  {
   "cell_type": "code",
   "execution_count": 61,
   "metadata": {},
   "outputs": [
    {
     "data": {
      "text/plain": [
       "Text(0.5, 0, 'Payment_Mode')"
      ]
     },
     "execution_count": 61,
     "metadata": {},
     "output_type": "execute_result"
    },
    {
     "data": {
      "image/png": "[encoded data removed]",
      "text/plain": [
       "<Figure size 504x504 with 1 Axes>"
      ]
     },
     "metadata": {},
     "output_type": "display_data"
    }
   ],
   "source": [
    "plt.figure(figsize=(7,7))\n",
    "sns.countplot(data=master_data, x=\"Payment_Mode\", palette=[\"#af6318\", \"#0b4951\"])\n",
    "plt.title('Payment Mode', fontsize=20)\n",
    "plt.ylabel('Frequency')\n",
    "plt.xlabel('Payment_Mode')"
   ]
  },
  {
   "cell_type": "code",
   "execution_count": 62,
   "metadata": {},
   "outputs": [
    {
     "data": {
      "text/plain": [
       "Text(0.5, 1.0, 'Payment Mode in both companies')"
      ]
     },
     "execution_count": 62,
     "metadata": {},
     "output_type": "execute_result"
    },
    {
     "data": {
      "image/png": "[encoded data removed]",
      "text/plain": [
       "<Figure size 504x504 with 1 Axes>"
      ]
     },
     "metadata": {},
     "output_type": "display_data"
    }
   ],
   "source": [
    "plt.figure(figsize=(7,7))\n",
    "ax = sns.countplot(x=\"Company\", hue=\"Payment_Mode\", data=master_data, palette=['#0a007a',\"#204c0a\"])\n",
    "plt.title('Payment Mode in both companies', fontsize=15)"
   ]
  },
  {
   "cell_type": "markdown",
   "metadata": {},
   "source": [
    "### Conclusion\n",
    "\n",
    "- Majority of the customers of both companies pay in cash rather than cards."
   ]
  },
  {
   "cell_type": "code",
   "execution_count": null,
   "metadata": {},
   "outputs": [],
   "source": []
  },
  {
   "cell_type": "markdown",
   "metadata": {},
   "source": [
    "# Hypothesis Testing"
   ]
  },
  {
   "cell_type": "markdown",
   "metadata": {},
   "source": [
    "### Hypothesis 1:\n",
    "H0 : There is no difference regarding Payment Mode in both cab companies.\n",
    "\n",
    "H1 : There is difference regarding Payment Mode in both cab companies."
   ]
  },
  {
   "cell_type": "code",
   "execution_count": 63,
   "metadata": {},
   "outputs": [],
   "source": [
    "master_data['Profit'] = master_data['Price Charged'] - master_data['Cost of Trip']"
   ]
  },
  {
   "cell_type": "code",
   "execution_count": 64,
   "metadata": {},
   "outputs": [
    {
     "name": "stdout",
     "output_type": "stream",
     "text": [
      "P value is  0.7900465828793288\n",
      "We accept null hypothesis (H0) that there is no difference in payment mode for Pink Cab\n"
     ]
    }
   ],
   "source": [
    "#Pink Cab\n",
    "\n",
    "data_1 = master_data[(master_data.Payment_Mode=='Cash')&(master_data.Company=='Pink Cab')].groupby('Transaction ID').Profit.mean()\n",
    "data_2 = master_data[(master_data.Payment_Mode=='Card')&(master_data.Company=='Pink Cab')].groupby('Transaction ID').Profit.mean()\n",
    "\n",
    "t_stat, p_value = stats.ttest_ind(data_1.values,\n",
    "                             data_2.values,\n",
    "                             equal_var=True)\n",
    "\n",
    "print('P value is ', p_value)\n",
    "\n",
    "if(p_value<0.05):\n",
    "    print('We accept alternative hypothesis (H1) that there is a difference in payment mode for Pink Cab')\n",
    "else:\n",
    "    print('We accept null hypothesis (H0) that there is no difference in payment mode for Pink Cab')"
   ]
  },
  {
   "cell_type": "code",
   "execution_count": 65,
   "metadata": {},
   "outputs": [
    {
     "name": "stdout",
     "output_type": "stream",
     "text": [
      "P value is  0.29330606382985325\n",
      "We accept null hypothesis (H0) that there is no difference in payment mode for Yellow Cab\n"
     ]
    }
   ],
   "source": [
    "#Yellow Cab\n",
    "\n",
    "data_1 = master_data[(master_data.Payment_Mode=='Cash')&(master_data.Company=='Yellow Cab')].groupby('Transaction ID').Profit.mean()\n",
    "data_2 = master_data[(master_data.Payment_Mode=='Card')&(master_data.Company=='Yellow Cab')].groupby('Transaction ID').Profit.mean()\n",
    "\n",
    "t_stat, p_value = stats.ttest_ind(data_1.values,\n",
    "                             data_2.values,\n",
    "                             equal_var=True)\n",
    "\n",
    "print('P value is ', p_value)\n",
    "\n",
    "if(p_value<0.05):\n",
    "    print('We accept alternative hypothesis (H1) that there is a difference in payment mode for Yellow Cab')\n",
    "else:\n",
    "    print('We accept null hypothesis (H0) that there is no difference in payment mode for Yellow Cab')"
   ]
  },
  {
   "cell_type": "markdown",
   "metadata": {},
   "source": [
    "### Hypothesis 2:\n",
    "H0 : There is no difference regarding Gender in both cab companies.\n",
    "\n",
    "H1 : There is difference regarding Gender in both cab companies."
   ]
  },
  {
   "cell_type": "code",
   "execution_count": 66,
   "metadata": {},
   "outputs": [
    {
     "name": "stdout",
     "output_type": "stream",
     "text": [
      "P value is  0.11515305900425798\n",
      "We accept null hypothesis (H0) that there is no difference for Pink Cab\n"
     ]
    }
   ],
   "source": [
    "#Pink Cab\n",
    "\n",
    "data_1 = master_data[(master_data.Gender=='Male')&(master_data.Company=='Pink Cab')].groupby('Transaction ID').Profit.mean()\n",
    "data_2 = master_data[(master_data.Gender=='Female')&(master_data.Company=='Pink Cab')].groupby('Transaction ID').Profit.mean()\n",
    "\n",
    "t_stat, p_value = stats.ttest_ind(data_1.values,\n",
    "                             data_2.values,\n",
    "                             equal_var=True)\n",
    "\n",
    "print('P value is ', p_value)\n",
    "\n",
    "if(p_value<0.05):\n",
    "    print('We accept alternative hypothesis (H1) that there is a difference for Pink Cab')\n",
    "else:\n",
    "    print('We accept null hypothesis (H0) that there is no difference for Pink Cab')\n"
   ]
  },
  {
   "cell_type": "code",
   "execution_count": 67,
   "metadata": {},
   "outputs": [
    {
     "name": "stdout",
     "output_type": "stream",
     "text": [
      "P value is  6.060473042494144e-25\n",
      "We accept alternative hypothesis (H1) that there is a difference for Yellow Cab\n"
     ]
    }
   ],
   "source": [
    "#Yellow Cab\n",
    "\n",
    "data_1 = master_data[(master_data.Gender=='Male')&(master_data.Company=='Yellow Cab')].groupby('Transaction ID').Profit.mean()\n",
    "data_2 = master_data[(master_data.Gender=='Female')&(master_data.Company=='Yellow Cab')].groupby('Transaction ID').Profit.mean()\n",
    "\n",
    "t_stat, p_value = stats.ttest_ind(data_1.values,\n",
    "                             data_2.values,\n",
    "                             equal_var=True)\n",
    "\n",
    "print('P value is ', p_value)\n",
    "\n",
    "if(p_value<0.05):\n",
    "    print('We accept alternative hypothesis (H1) that there is a difference for Yellow Cab')\n",
    "else:\n",
    "    print('We accept null hypothesis (H0) that there is no difference for Yellow Cab')\n"
   ]
  },
  {
   "cell_type": "markdown",
   "metadata": {},
   "source": [
    "### Hypothesis 3:\n",
    "H0 : There is no difference regarding Age in both cab companies.\n",
    "\n",
    "H1 : There is difference regarding Age in both cab companies."
   ]
  },
  {
   "cell_type": "code",
   "execution_count": 68,
   "metadata": {},
   "outputs": [
    {
     "data": {
      "text/plain": [
       "array([28, 27, 53, 23, 33, 25, 32, 39, 35, 24, 61, 46, 40, 20, 19, 62, 36,\n",
       "       50, 65, 59, 34, 18, 38, 58, 47, 42, 26, 37, 56, 22, 21, 29, 30, 63,\n",
       "       48, 55, 51, 60, 31, 41, 52, 45, 64, 44, 43, 54, 49, 57],\n",
       "      dtype=int64)"
      ]
     },
     "execution_count": 68,
     "metadata": {},
     "output_type": "execute_result"
    }
   ],
   "source": [
    "master_data.Age.unique()"
   ]
  },
  {
   "cell_type": "code",
   "execution_count": 69,
   "metadata": {},
   "outputs": [
    {
     "name": "stdout",
     "output_type": "stream",
     "text": [
      "P value is  0.18796448671958466\n",
      "We accept null hypothesis (H0) that there is no difference regarding age for Pink Cab\n"
     ]
    }
   ],
   "source": [
    "#Pink Cab\n",
    "\n",
    "data_1 = master_data[(master_data.Age <= 60)&(master_data.Company=='Pink Cab')].groupby('Transaction ID').Profit.mean()\n",
    "data_2 = master_data[(master_data.Age > 60)&(master_data.Company=='Pink Cab')].groupby('Transaction ID').Profit.mean()\n",
    "\n",
    "t_stat, p_value = stats.ttest_ind(data_1.values,\n",
    "                             data_2.values,\n",
    "                             equal_var=True)\n",
    "\n",
    "print('P value is ', p_value)\n",
    "\n",
    "if(p_value<0.05):\n",
    "    print('We accept alternative hypothesis (H1) that there is a difference regarding age for Pink Cab')\n",
    "else:\n",
    "    print('We accept null hypothesis (H0) that there is no difference regarding age for Pink Cab')\n"
   ]
  },
  {
   "cell_type": "code",
   "execution_count": 70,
   "metadata": {},
   "outputs": [
    {
     "name": "stdout",
     "output_type": "stream",
     "text": [
      "P value is  2.8426722804525463e-07\n",
      "We accept alternative hypothesis (H1) that there is a difference regarding age for Yellow Cab\n"
     ]
    }
   ],
   "source": [
    "#Yellow Cab\n",
    "\n",
    "data_1 = master_data[(master_data.Age <= 60)&(master_data.Company=='Yellow Cab')].groupby('Transaction ID').Profit.mean()\n",
    "data_2 = master_data[(master_data.Age > 60)&(master_data.Company=='Yellow Cab')].groupby('Transaction ID').Profit.mean()\n",
    "\n",
    "t_stat, p_value = stats.ttest_ind(data_1.values,\n",
    "                             data_2.values,\n",
    "                             equal_var=True)\n",
    "\n",
    "print('P value is ', p_value)\n",
    "\n",
    "if(p_value<0.05):\n",
    "    print('We accept alternative hypothesis (H1) that there is a difference regarding age for Yellow Cab')\n",
    "else:\n",
    "    print('We accept null hypothesis (H0) that there is no difference regarding age for Yellow Cab')\n"
   ]
  },
  {
   "cell_type": "code",
   "execution_count": null,
   "metadata": {},
   "outputs": [],
   "source": []
  }
 ],
 "metadata": {
  "kernelspec": {
   "display_name": "Python 3",
   "language": "python",
   "name": "python3"
  },
  "language_info": {
   "codemirror_mode": {
    "name": "ipython",
    "version": 3
   },
   "file_extension": ".py",
   "mimetype": "text/x-python",
   "name": "python",
   "nbconvert_exporter": "python",
   "pygments_lexer": "ipython3",
   "version": "3.8.5"
  }
 },
 "nbformat": 4,
 "nbformat_minor": 4
}
